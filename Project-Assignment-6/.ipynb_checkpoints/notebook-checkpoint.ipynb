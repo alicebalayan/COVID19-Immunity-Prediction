{
 "cells": [
  {
   "cell_type": "code",
   "execution_count": 76,
   "metadata": {},
   "outputs": [],
   "source": [
    "import pandas as pd\n",
    "import numpy as np\n",
    "import matplotlib.pyplot as plt\n",
    "import seaborn as sns\n",
    "import datetime as dt\n",
    "from datetime import timedelta  \n"
   ]
  },
  {
   "cell_type": "markdown",
   "metadata": {},
   "source": [
    "# Importing datsets we are going to use"
   ]
  },
  {
   "cell_type": "code",
   "execution_count": 77,
   "metadata": {},
   "outputs": [
    {
     "data": {
      "text/html": [
       "<div>\n",
       "<style scoped>\n",
       "    .dataframe tbody tr th:only-of-type {\n",
       "        vertical-align: middle;\n",
       "    }\n",
       "\n",
       "    .dataframe tbody tr th {\n",
       "        vertical-align: top;\n",
       "    }\n",
       "\n",
       "    .dataframe thead th {\n",
       "        text-align: right;\n",
       "    }\n",
       "</style>\n",
       "<table border=\"1\" class=\"dataframe\">\n",
       "  <thead>\n",
       "    <tr style=\"text-align: right;\">\n",
       "      <th></th>\n",
       "      <th>Day</th>\n",
       "      <th>daily_vaccinations</th>\n",
       "    </tr>\n",
       "  </thead>\n",
       "  <tbody>\n",
       "    <tr>\n",
       "      <th>0</th>\n",
       "      <td>2021-01-31</td>\n",
       "      <td>0.228328</td>\n",
       "    </tr>\n",
       "    <tr>\n",
       "      <th>1</th>\n",
       "      <td>2021-02-28</td>\n",
       "      <td>0.526468</td>\n",
       "    </tr>\n",
       "    <tr>\n",
       "      <th>2</th>\n",
       "      <td>2021-03-31</td>\n",
       "      <td>0.818961</td>\n",
       "    </tr>\n",
       "  </tbody>\n",
       "</table>\n",
       "</div>"
      ],
      "text/plain": [
       "          Day  daily_vaccinations\n",
       "0  2021-01-31            0.228328\n",
       "1  2021-02-28            0.526468\n",
       "2  2021-03-31            0.818961"
      ]
     },
     "metadata": {},
     "output_type": "display_data"
    },
    {
     "data": {
      "text/html": [
       "<div>\n",
       "<style scoped>\n",
       "    .dataframe tbody tr th:only-of-type {\n",
       "        vertical-align: middle;\n",
       "    }\n",
       "\n",
       "    .dataframe tbody tr th {\n",
       "        vertical-align: top;\n",
       "    }\n",
       "\n",
       "    .dataframe thead th {\n",
       "        text-align: right;\n",
       "    }\n",
       "</style>\n",
       "<table border=\"1\" class=\"dataframe\">\n",
       "  <thead>\n",
       "    <tr style=\"text-align: right;\">\n",
       "      <th></th>\n",
       "      <th>ObservationDate</th>\n",
       "      <th>Confirmed</th>\n",
       "      <th>Deaths</th>\n",
       "      <th>Recovered</th>\n",
       "    </tr>\n",
       "  </thead>\n",
       "  <tbody>\n",
       "    <tr>\n",
       "      <th>0</th>\n",
       "      <td>2020-01-22</td>\n",
       "      <td>2.940369e-09</td>\n",
       "      <td>0.000000</td>\n",
       "      <td>0.0</td>\n",
       "    </tr>\n",
       "    <tr>\n",
       "      <th>1</th>\n",
       "      <td>2020-01-23</td>\n",
       "      <td>2.940369e-09</td>\n",
       "      <td>0.000000</td>\n",
       "      <td>0.0</td>\n",
       "    </tr>\n",
       "    <tr>\n",
       "      <th>2</th>\n",
       "      <td>2020-01-24</td>\n",
       "      <td>5.880739e-09</td>\n",
       "      <td>0.000000</td>\n",
       "      <td>0.0</td>\n",
       "    </tr>\n",
       "    <tr>\n",
       "      <th>3</th>\n",
       "      <td>2020-01-25</td>\n",
       "      <td>5.880739e-09</td>\n",
       "      <td>0.000000</td>\n",
       "      <td>0.0</td>\n",
       "    </tr>\n",
       "    <tr>\n",
       "      <th>4</th>\n",
       "      <td>2020-01-26</td>\n",
       "      <td>1.470185e-08</td>\n",
       "      <td>0.000000</td>\n",
       "      <td>0.0</td>\n",
       "    </tr>\n",
       "    <tr>\n",
       "      <th>...</th>\n",
       "      <td>...</td>\n",
       "      <td>...</td>\n",
       "      <td>...</td>\n",
       "      <td>...</td>\n",
       "    </tr>\n",
       "    <tr>\n",
       "      <th>462</th>\n",
       "      <td>2021-04-28</td>\n",
       "      <td>9.477060e-02</td>\n",
       "      <td>0.090126</td>\n",
       "      <td>0.0</td>\n",
       "    </tr>\n",
       "    <tr>\n",
       "      <th>463</th>\n",
       "      <td>2021-04-29</td>\n",
       "      <td>9.494173e-02</td>\n",
       "      <td>0.090260</td>\n",
       "      <td>0.0</td>\n",
       "    </tr>\n",
       "    <tr>\n",
       "      <th>464</th>\n",
       "      <td>2021-04-30</td>\n",
       "      <td>9.511204e-02</td>\n",
       "      <td>0.090423</td>\n",
       "      <td>0.0</td>\n",
       "    </tr>\n",
       "    <tr>\n",
       "      <th>465</th>\n",
       "      <td>2021-05-01</td>\n",
       "      <td>9.524525e-02</td>\n",
       "      <td>0.090500</td>\n",
       "      <td>0.0</td>\n",
       "    </tr>\n",
       "    <tr>\n",
       "      <th>466</th>\n",
       "      <td>2021-05-02</td>\n",
       "      <td>9.533128e-02</td>\n",
       "      <td>0.090551</td>\n",
       "      <td>0.0</td>\n",
       "    </tr>\n",
       "  </tbody>\n",
       "</table>\n",
       "<p>467 rows × 4 columns</p>\n",
       "</div>"
      ],
      "text/plain": [
       "    ObservationDate     Confirmed    Deaths  Recovered\n",
       "0        2020-01-22  2.940369e-09  0.000000        0.0\n",
       "1        2020-01-23  2.940369e-09  0.000000        0.0\n",
       "2        2020-01-24  5.880739e-09  0.000000        0.0\n",
       "3        2020-01-25  5.880739e-09  0.000000        0.0\n",
       "4        2020-01-26  1.470185e-08  0.000000        0.0\n",
       "..              ...           ...       ...        ...\n",
       "462      2021-04-28  9.477060e-02  0.090126        0.0\n",
       "463      2021-04-29  9.494173e-02  0.090260        0.0\n",
       "464      2021-04-30  9.511204e-02  0.090423        0.0\n",
       "465      2021-05-01  9.524525e-02  0.090500        0.0\n",
       "466      2021-05-02  9.533128e-02  0.090551        0.0\n",
       "\n",
       "[467 rows x 4 columns]"
      ]
     },
     "metadata": {},
     "output_type": "display_data"
    },
    {
     "data": {
      "text/html": [
       "<div>\n",
       "<style scoped>\n",
       "    .dataframe tbody tr th:only-of-type {\n",
       "        vertical-align: middle;\n",
       "    }\n",
       "\n",
       "    .dataframe tbody tr th {\n",
       "        vertical-align: top;\n",
       "    }\n",
       "\n",
       "    .dataframe thead th {\n",
       "        text-align: right;\n",
       "    }\n",
       "</style>\n",
       "<table border=\"1\" class=\"dataframe\">\n",
       "  <thead>\n",
       "    <tr style=\"text-align: right;\">\n",
       "      <th></th>\n",
       "      <th>date</th>\n",
       "      <th>total_vaccinations</th>\n",
       "      <th>people_vaccinated</th>\n",
       "      <th>people_fully_vaccinated</th>\n",
       "    </tr>\n",
       "  </thead>\n",
       "  <tbody>\n",
       "    <tr>\n",
       "      <th>0</th>\n",
       "      <td>2020-12-20</td>\n",
       "      <td>0.000533</td>\n",
       "      <td>0.000818</td>\n",
       "      <td>0.000000</td>\n",
       "    </tr>\n",
       "    <tr>\n",
       "      <th>1</th>\n",
       "      <td>2020-12-21</td>\n",
       "      <td>0.000588</td>\n",
       "      <td>0.000904</td>\n",
       "      <td>0.000000</td>\n",
       "    </tr>\n",
       "    <tr>\n",
       "      <th>2</th>\n",
       "      <td>2020-12-22</td>\n",
       "      <td>0.000588</td>\n",
       "      <td>0.000904</td>\n",
       "      <td>0.000000</td>\n",
       "    </tr>\n",
       "    <tr>\n",
       "      <th>3</th>\n",
       "      <td>2020-12-23</td>\n",
       "      <td>0.000966</td>\n",
       "      <td>0.001483</td>\n",
       "      <td>0.000000</td>\n",
       "    </tr>\n",
       "    <tr>\n",
       "      <th>4</th>\n",
       "      <td>2020-12-24</td>\n",
       "      <td>0.000966</td>\n",
       "      <td>0.001483</td>\n",
       "      <td>0.000000</td>\n",
       "    </tr>\n",
       "    <tr>\n",
       "      <th>...</th>\n",
       "      <td>...</td>\n",
       "      <td>...</td>\n",
       "      <td>...</td>\n",
       "      <td>...</td>\n",
       "    </tr>\n",
       "    <tr>\n",
       "      <th>115</th>\n",
       "      <td>2021-04-14</td>\n",
       "      <td>0.186577</td>\n",
       "      <td>0.182325</td>\n",
       "      <td>0.200872</td>\n",
       "    </tr>\n",
       "    <tr>\n",
       "      <th>116</th>\n",
       "      <td>2021-04-15</td>\n",
       "      <td>0.189953</td>\n",
       "      <td>0.185129</td>\n",
       "      <td>0.205632</td>\n",
       "    </tr>\n",
       "    <tr>\n",
       "      <th>117</th>\n",
       "      <td>2021-04-16</td>\n",
       "      <td>0.193752</td>\n",
       "      <td>0.187954</td>\n",
       "      <td>0.211164</td>\n",
       "    </tr>\n",
       "    <tr>\n",
       "      <th>118</th>\n",
       "      <td>2021-04-17</td>\n",
       "      <td>0.197190</td>\n",
       "      <td>0.190531</td>\n",
       "      <td>0.216040</td>\n",
       "    </tr>\n",
       "    <tr>\n",
       "      <th>119</th>\n",
       "      <td>2021-04-18</td>\n",
       "      <td>0.200575</td>\n",
       "      <td>0.193111</td>\n",
       "      <td>0.220734</td>\n",
       "    </tr>\n",
       "  </tbody>\n",
       "</table>\n",
       "<p>120 rows × 4 columns</p>\n",
       "</div>"
      ],
      "text/plain": [
       "           date  total_vaccinations  people_vaccinated  \\\n",
       "0    2020-12-20            0.000533           0.000818   \n",
       "1    2020-12-21            0.000588           0.000904   \n",
       "2    2020-12-22            0.000588           0.000904   \n",
       "3    2020-12-23            0.000966           0.001483   \n",
       "4    2020-12-24            0.000966           0.001483   \n",
       "..          ...                 ...                ...   \n",
       "115  2021-04-14            0.186577           0.182325   \n",
       "116  2021-04-15            0.189953           0.185129   \n",
       "117  2021-04-16            0.193752           0.187954   \n",
       "118  2021-04-17            0.197190           0.190531   \n",
       "119  2021-04-18            0.200575           0.193111   \n",
       "\n",
       "     people_fully_vaccinated  \n",
       "0                   0.000000  \n",
       "1                   0.000000  \n",
       "2                   0.000000  \n",
       "3                   0.000000  \n",
       "4                   0.000000  \n",
       "..                       ...  \n",
       "115                 0.200872  \n",
       "116                 0.205632  \n",
       "117                 0.211164  \n",
       "118                 0.216040  \n",
       "119                 0.220734  \n",
       "\n",
       "[120 rows x 4 columns]"
      ]
     },
     "metadata": {},
     "output_type": "display_data"
    }
   ],
   "source": [
    "#Here we can just import all datsets we're going to use \n",
    "daily_vaccines = pd.read_csv('cleaned/us-daily-vaccines-discretize-normalized.csv')\n",
    "display(daily_vaccines)\n",
    "covid_19_data = pd.read_csv('cleaned/Novel Corona Virus 2019 Dataset/covid_19_data_normalized.csv')\n",
    "display(covid_19_data)\n",
    "#Should we transform dates or just drop/ignore?\n",
    "#We can transorm it using this\n",
    "#test_df['Date'].dt.strftime(\"%Y%m%d\").astype(int)\n",
    "covid_19_world = pd.read_csv(\"cleaned/COVID-19 World Vaccination Progress/country_vaccinations_normalized.csv\")\n",
    "display(covid_19_world)"
   ]
  },
  {
   "cell_type": "markdown",
   "metadata": {},
   "source": [
    "# Linear Regression us-daily-vaccines-normalized"
   ]
  },
  {
   "cell_type": "code",
   "execution_count": 78,
   "metadata": {},
   "outputs": [
    {
     "data": {
      "text/html": [
       "<div>\n",
       "<style scoped>\n",
       "    .dataframe tbody tr th:only-of-type {\n",
       "        vertical-align: middle;\n",
       "    }\n",
       "\n",
       "    .dataframe tbody tr th {\n",
       "        vertical-align: top;\n",
       "    }\n",
       "\n",
       "    .dataframe thead th {\n",
       "        text-align: right;\n",
       "    }\n",
       "</style>\n",
       "<table border=\"1\" class=\"dataframe\">\n",
       "  <thead>\n",
       "    <tr style=\"text-align: right;\">\n",
       "      <th></th>\n",
       "      <th>Day</th>\n",
       "      <th>daily_vaccinations</th>\n",
       "      <th>date_delta</th>\n",
       "    </tr>\n",
       "  </thead>\n",
       "  <tbody>\n",
       "    <tr>\n",
       "      <th>0</th>\n",
       "      <td>2021-02-09</td>\n",
       "      <td>0.089862</td>\n",
       "      <td>27.0</td>\n",
       "    </tr>\n",
       "    <tr>\n",
       "      <th>1</th>\n",
       "      <td>2021-03-13</td>\n",
       "      <td>0.160251</td>\n",
       "      <td>59.0</td>\n",
       "    </tr>\n",
       "    <tr>\n",
       "      <th>2</th>\n",
       "      <td>2021-02-13</td>\n",
       "      <td>0.100012</td>\n",
       "      <td>31.0</td>\n",
       "    </tr>\n",
       "    <tr>\n",
       "      <th>3</th>\n",
       "      <td>2021-01-13</td>\n",
       "      <td>0.057914</td>\n",
       "      <td>0.0</td>\n",
       "    </tr>\n",
       "    <tr>\n",
       "      <th>4</th>\n",
       "      <td>2021-03-29</td>\n",
       "      <td>0.174406</td>\n",
       "      <td>75.0</td>\n",
       "    </tr>\n",
       "  </tbody>\n",
       "</table>\n",
       "</div>"
      ],
      "text/plain": [
       "         Day  daily_vaccinations  date_delta\n",
       "0 2021-02-09            0.089862        27.0\n",
       "1 2021-03-13            0.160251        59.0\n",
       "2 2021-02-13            0.100012        31.0\n",
       "3 2021-01-13            0.057914         0.0\n",
       "4 2021-03-29            0.174406        75.0"
      ]
     },
     "execution_count": 78,
     "metadata": {},
     "output_type": "execute_result"
    }
   ],
   "source": [
    "daily_vaccines = pd.read_csv('cleaned/us-daily-vaccines-normalized.csv')\n",
    "daily_vaccines['Day'] = pd.to_datetime(daily_vaccines['Day'])\n",
    "daily_vaccines['date_delta'] = (daily_vaccines['Day'] - daily_vaccines['Day'].min())  / np.timedelta64(1,'D')\n",
    "daily_vaccines.head()"
   ]
  },
  {
   "cell_type": "code",
   "execution_count": 79,
   "metadata": {},
   "outputs": [
    {
     "name": "stdout",
     "output_type": "stream",
     "text": [
      "mean squared error:0.000020100\n"
     ]
    },
    {
     "data": {
      "image/png": "[encoded data removed]",
      "text/plain": [
       "<Figure size 576x432 with 1 Axes>"
      ]
     },
     "metadata": {
      "needs_background": "light"
     },
     "output_type": "display_data"
    }
   ],
   "source": [
    "from sklearn.linear_model import LinearRegression\n",
    "from sklearn.model_selection import train_test_split\n",
    "from sklearn.metrics import mean_squared_error, r2_score\n",
    "import sklearn.metrics as metrics\n",
    "# daily_vaccines = daily_vaccines.drop('Entity',axis=1)\n",
    "# covid_19_data = covid_19_data.drop(\"ObservationDate\",axis=1)\n",
    "#These will be the attributes we want to use\n",
    "X = daily_vaccines.date_delta.values\n",
    "#We want y to be our target. What's are target going to be? Idk yet lol\n",
    "y = daily_vaccines.daily_vaccinations.values\n",
    "\n",
    "X = X.reshape(len(X), 1)\n",
    "y = y.reshape(len(y), 1)\n",
    "\n",
    "#Here we can choose a random state so we get consistent results across all systems.\n",
    "#80-20 or 70-30 for (test/training is standard)\n",
    "train_x, test_x, train_y, test_y = train_test_split(X,y,test_size = 0.20,random_state=1001)\n",
    "lr = LinearRegression()\n",
    "lr.fit(train_x,train_y)\n",
    "pred_y = lr.predict(test_x)\n",
    "\n",
    "# print(pred_y)\n",
    "mse = metrics.mean_squared_error(test_y, pred_y)\n",
    "mse = f\"{mse:.9f}\"\n",
    "print(\"mean squared error:\"+mse)\n",
    "# print(\"R-squared: {0}\".format(metrics.r2_score(Y,y_pred1)))\n",
    "\n",
    "# Plot outputs\n",
    "plt.figure(figsize=(8, 6))\n",
    "\n",
    "plt.scatter(test_x, test_y,  color='black')\n",
    "plt.plot(test_x, pred_y, color='blue', linewidth=3)\n",
    "# plt.xticks(X)\n",
    "# plt.yticks(())\n",
    "# print(plt.xticks())\n",
    "# plt.xticks((plt.xticks()[0],str(plt.xticks()[0])))\n",
    "xticks=plt.xticks()[0]\n",
    "xticks_str=[]\n",
    "first=daily_vaccines['Day'].min()\n",
    "for tick in xticks:\n",
    "    # d=dt.datetime.strptime(str(int(tick)),\"%Y%m%d\")\n",
    "    xticks_str.append((first+ timedelta(days=int(tick))).strftime(\"%y/%m/%d\"))\n",
    "plt.xticks(xticks,xticks_str)\n",
    "plt.title(\"Linear Regression People Vaccinated for 2021\")\n",
    "\n",
    "plt.show()"
   ]
  },
  {
   "cell_type": "code",
   "execution_count": 80,
   "metadata": {},
   "outputs": [
    {
     "ename": "ModuleNotFoundError",
     "evalue": "No module named 'yellowbrick'",
     "output_type": "error",
     "traceback": [
      "\u001b[0;31m---------------------------------------------------------------------------\u001b[0m",
      "\u001b[0;31mModuleNotFoundError\u001b[0m                       Traceback (most recent call last)",
      "\u001b[0;32m<ipython-input-80-a093f90017db>\u001b[0m in \u001b[0;36m<module>\u001b[0;34m\u001b[0m\n\u001b[0;32m----> 1\u001b[0;31m \u001b[0;32mfrom\u001b[0m \u001b[0myellowbrick\u001b[0m\u001b[0;34m.\u001b[0m\u001b[0mregressor\u001b[0m \u001b[0;32mimport\u001b[0m \u001b[0mResidualsPlot\u001b[0m\u001b[0;34m\u001b[0m\u001b[0;34m\u001b[0m\u001b[0m\n\u001b[0m\u001b[1;32m      2\u001b[0m \u001b[0mvisualizer\u001b[0m \u001b[0;34m=\u001b[0m \u001b[0mResidualsPlot\u001b[0m\u001b[0;34m(\u001b[0m\u001b[0mlr\u001b[0m\u001b[0;34m)\u001b[0m\u001b[0;34m\u001b[0m\u001b[0;34m\u001b[0m\u001b[0m\n\u001b[1;32m      3\u001b[0m \u001b[0mvisualizer\u001b[0m\u001b[0;34m.\u001b[0m\u001b[0mfit\u001b[0m\u001b[0;34m(\u001b[0m\u001b[0mtrain_x\u001b[0m\u001b[0;34m,\u001b[0m \u001b[0mtrain_y\u001b[0m\u001b[0;34m)\u001b[0m  \u001b[0;31m# Fit the training data to the visualizer\u001b[0m\u001b[0;34m\u001b[0m\u001b[0;34m\u001b[0m\u001b[0m\n\u001b[1;32m      4\u001b[0m \u001b[0mvisualizer\u001b[0m\u001b[0;34m.\u001b[0m\u001b[0mscore\u001b[0m\u001b[0;34m(\u001b[0m\u001b[0mtest_x\u001b[0m\u001b[0;34m,\u001b[0m \u001b[0mtest_y\u001b[0m\u001b[0;34m)\u001b[0m  \u001b[0;31m# Evaluate the model on the test data\u001b[0m\u001b[0;34m\u001b[0m\u001b[0;34m\u001b[0m\u001b[0m\n\u001b[1;32m      5\u001b[0m \u001b[0mvisualizer\u001b[0m\u001b[0;34m.\u001b[0m\u001b[0mshow\u001b[0m\u001b[0;34m(\u001b[0m\u001b[0;34m)\u001b[0m                 \u001b[0;31m# Finalize and render the figure\u001b[0m\u001b[0;34m\u001b[0m\u001b[0;34m\u001b[0m\u001b[0m\n",
      "\u001b[0;31mModuleNotFoundError\u001b[0m: No module named 'yellowbrick'"
     ]
    }
   ],
   "source": [
    "from yellowbrick.regressor import ResidualsPlot\n",
    "visualizer = ResidualsPlot(lr)\n",
    "visualizer.fit(train_x, train_y)  # Fit the training data to the visualizer\n",
    "visualizer.score(test_x, test_y)  # Evaluate the model on the test data\n",
    "visualizer.show()                 # Finalize and render the figure"
   ]
  },
  {
   "cell_type": "code",
   "execution_count": 81,
   "metadata": {},
   "outputs": [
    {
     "data": {
      "text/html": [
       "<div>\n",
       "<style scoped>\n",
       "    .dataframe tbody tr th:only-of-type {\n",
       "        vertical-align: middle;\n",
       "    }\n",
       "\n",
       "    .dataframe tbody tr th {\n",
       "        vertical-align: top;\n",
       "    }\n",
       "\n",
       "    .dataframe thead th {\n",
       "        text-align: right;\n",
       "    }\n",
       "</style>\n",
       "<table border=\"1\" class=\"dataframe\">\n",
       "  <thead>\n",
       "    <tr style=\"text-align: right;\">\n",
       "      <th></th>\n",
       "      <th>ObservationDate</th>\n",
       "      <th>Confirmed</th>\n",
       "      <th>Deaths</th>\n",
       "      <th>Recovered</th>\n",
       "      <th>date_delta</th>\n",
       "      <th>Confirmed_diff</th>\n",
       "    </tr>\n",
       "  </thead>\n",
       "  <tbody>\n",
       "    <tr>\n",
       "      <th>0</th>\n",
       "      <td>2021-01-01</td>\n",
       "      <td>20252991</td>\n",
       "      <td>354242</td>\n",
       "      <td>0</td>\n",
       "      <td>0.0</td>\n",
       "      <td>0.0</td>\n",
       "    </tr>\n",
       "    <tr>\n",
       "      <th>1</th>\n",
       "      <td>2021-01-02</td>\n",
       "      <td>20553301</td>\n",
       "      <td>356749</td>\n",
       "      <td>0</td>\n",
       "      <td>1.0</td>\n",
       "      <td>300310.0</td>\n",
       "    </tr>\n",
       "    <tr>\n",
       "      <th>2</th>\n",
       "      <td>2021-01-03</td>\n",
       "      <td>20762047</td>\n",
       "      <td>358196</td>\n",
       "      <td>0</td>\n",
       "      <td>2.0</td>\n",
       "      <td>208746.0</td>\n",
       "    </tr>\n",
       "    <tr>\n",
       "      <th>3</th>\n",
       "      <td>2021-01-04</td>\n",
       "      <td>20946329</td>\n",
       "      <td>360288</td>\n",
       "      <td>0</td>\n",
       "      <td>3.0</td>\n",
       "      <td>184282.0</td>\n",
       "    </tr>\n",
       "    <tr>\n",
       "      <th>4</th>\n",
       "      <td>2021-01-05</td>\n",
       "      <td>21181440</td>\n",
       "      <td>364002</td>\n",
       "      <td>0</td>\n",
       "      <td>4.0</td>\n",
       "      <td>235111.0</td>\n",
       "    </tr>\n",
       "  </tbody>\n",
       "</table>\n",
       "</div>"
      ],
      "text/plain": [
       "  ObservationDate  Confirmed  Deaths  Recovered  date_delta  Confirmed_diff\n",
       "0      2021-01-01   20252991  354242          0         0.0             0.0\n",
       "1      2021-01-02   20553301  356749          0         1.0        300310.0\n",
       "2      2021-01-03   20762047  358196          0         2.0        208746.0\n",
       "3      2021-01-04   20946329  360288          0         3.0        184282.0\n",
       "4      2021-01-05   21181440  364002          0         4.0        235111.0"
      ]
     },
     "execution_count": 81,
     "metadata": {},
     "output_type": "execute_result"
    }
   ],
   "source": [
    "covid_19_data = pd.read_csv('cleaned/Novel Corona Virus 2019 Dataset/covid_19_data_2021.csv')\n",
    "covid_19_data['ObservationDate'] = pd.to_datetime(covid_19_data['ObservationDate'])\n",
    "covid_19_data['date_delta'] = (covid_19_data['ObservationDate'] - covid_19_data['ObservationDate'].min())  / np.timedelta64(1,'D')\n",
    "diff=covid_19_data[[\"Confirmed\"]].diff().fillna(0)\n",
    "covid_19_data[\"Confirmed_diff\"]=diff[\"Confirmed\"]\n",
    "covid_19_data.head()\n"
   ]
  },
  {
   "cell_type": "code",
   "execution_count": 82,
   "metadata": {},
   "outputs": [
    {
     "name": "stdout",
     "output_type": "stream",
     "text": [
      "mean squared error:0.001214634\n"
     ]
    },
    {
     "data": {
      "image/png": "[encoded data removed]",
      "text/plain": [
       "<Figure size 576x432 with 1 Axes>"
      ]
     },
     "metadata": {
      "needs_background": "light"
     },
     "output_type": "display_data"
    }
   ],
   "source": [
    "from sklearn.linear_model import LinearRegression\n",
    "from sklearn.model_selection import train_test_split\n",
    "from sklearn.metrics import mean_squared_error, r2_score\n",
    "import sklearn.metrics as metrics\n",
    "from sklearn import preprocessing\n",
    "\n",
    "# daily_vaccines = daily_vaccines.drop('Entity',axis=1)\n",
    "# covid_19_data = covid_19_data.drop(\"ObservationDate\",axis=1)\n",
    "#These will be the attributes we want to use\n",
    "X = covid_19_data.date_delta.values\n",
    "#We want y to be our target. What's are target going to be? Idk yet lol\n",
    "# y = covid_19_data.Confirmed_diff.values\n",
    "y=preprocessing.normalize([covid_19_data.Confirmed_diff.values])[0]\n",
    "\n",
    "\n",
    "X = X.reshape(len(X), 1)\n",
    "y = y.reshape(len(y), 1)\n",
    "\n",
    "#Here we can choose a random state so we get consistent results across all systems.\n",
    "#80-20 or 70-30 for (test/training is standard)\n",
    "train_x, test_x, train_y, test_y = train_test_split(X,y,test_size = 0.20,random_state=1001)\n",
    "lr = LinearRegression()\n",
    "lr.fit(train_x,train_y)\n",
    "\n",
    "pred_y = lr.predict(test_x)\n",
    "\n",
    "mse = metrics.mean_squared_error(test_y, pred_y)\n",
    "mse = f\"{mse:.9f}\"\n",
    "print(\"mean squared error:\"+mse)\n",
    "\n",
    "# Plot outputs\n",
    "plt.figure(figsize=(8, 6))\n",
    "\n",
    "plt.scatter(test_x, test_y,  color='black')\n",
    "plt.plot(test_x, pred_y, color='blue', linewidth=3)\n",
    "# plt.xticks(X)\n",
    "# plt.yticks(())\n",
    "# print(plt.xticks())\n",
    "# plt.xticks((plt.xticks()[0],str(plt.xticks()[0])))\n",
    "xticks=plt.xticks()[0]\n",
    "xticks_str=[]\n",
    "first=covid_19_data['ObservationDate'].min()\n",
    "for tick in xticks:\n",
    "    # d=dt.datetime.strptime(str(int(tick)),\"%Y%m%d\")\n",
    "    xticks_str.append((first+ timedelta(days=int(tick))).strftime(\"%y/%m/%d\"))\n",
    "plt.xticks(xticks,xticks_str)\n",
    "plt.title(\"Linear Regression Confirmed Cases for 2021\")\n",
    "\n",
    "plt.show()"
   ]
  },
  {
   "cell_type": "code",
   "execution_count": 83,
   "metadata": {},
   "outputs": [
    {
     "data": {
      "image/png": "[encoded data removed]",
      "text/plain": [
       "<Figure size 576x432 with 1 Axes>"
      ]
     },
     "metadata": {
      "needs_background": "light"
     },
     "output_type": "display_data"
    },
    {
     "name": "stdout",
     "output_type": "stream",
     "text": [
      "Model took 0.10199642181396484 seconds \n"
     ]
    }
   ],
   "source": [
    "import time\n",
    "start_time = time.time()\n",
    "\n",
    "max_x=test_x.max()\n",
    "test_x=np.array([[x] for x in range(int(max_x)+1,int(max_x)+200)])\n",
    "\n",
    "pred_y = lr.predict(test_x)\n",
    "\n",
    "\n",
    "# Plot outputs\n",
    "plt.figure(figsize=(8, 6))\n",
    "\n",
    "plt.plot(test_x, pred_y, color='blue', linewidth=3)\n",
    "\n",
    "xticks=plt.xticks()[0]\n",
    "xticks_str=[]\n",
    "first=covid_19_data['ObservationDate'].min()\n",
    "for tick in xticks:\n",
    "    xticks_str.append((first+ timedelta(days=int(tick))).strftime(\"%y/%m/%d\"))\n",
    "    \n",
    "plt.xticks(xticks,xticks_str)\n",
    "plt.title(\"Linear Regression Confirmed Cases for 2021/4/11-2021/11/22\")\n",
    "\n",
    "plt.show()\n",
    "\n",
    "\n",
    "print(\"Model took %s seconds \" % (time.time() - start_time))"
   ]
  },
  {
   "cell_type": "code",
   "execution_count": 84,
   "metadata": {},
   "outputs": [
    {
     "data": {
      "text/html": [
       "<div>\n",
       "<style scoped>\n",
       "    .dataframe tbody tr th:only-of-type {\n",
       "        vertical-align: middle;\n",
       "    }\n",
       "\n",
       "    .dataframe tbody tr th {\n",
       "        vertical-align: top;\n",
       "    }\n",
       "\n",
       "    .dataframe thead th {\n",
       "        text-align: right;\n",
       "    }\n",
       "</style>\n",
       "<table border=\"1\" class=\"dataframe\">\n",
       "  <thead>\n",
       "    <tr style=\"text-align: right;\">\n",
       "      <th></th>\n",
       "      <th>Day</th>\n",
       "      <th>daily_vaccinations</th>\n",
       "    </tr>\n",
       "  </thead>\n",
       "  <tbody>\n",
       "    <tr>\n",
       "      <th>0</th>\n",
       "      <td>1/22/2021</td>\n",
       "      <td>0.058307</td>\n",
       "    </tr>\n",
       "    <tr>\n",
       "      <th>1</th>\n",
       "      <td>1/23/2021</td>\n",
       "      <td>0.063109</td>\n",
       "    </tr>\n",
       "    <tr>\n",
       "      <th>2</th>\n",
       "      <td>1/24/2021</td>\n",
       "      <td>0.066902</td>\n",
       "    </tr>\n",
       "    <tr>\n",
       "      <th>3</th>\n",
       "      <td>1/25/2021</td>\n",
       "      <td>0.067127</td>\n",
       "    </tr>\n",
       "    <tr>\n",
       "      <th>4</th>\n",
       "      <td>1/26/2021</td>\n",
       "      <td>0.066949</td>\n",
       "    </tr>\n",
       "  </tbody>\n",
       "</table>\n",
       "</div>"
      ],
      "text/plain": [
       "         Day  daily_vaccinations\n",
       "0  1/22/2021            0.058307\n",
       "1  1/23/2021            0.063109\n",
       "2  1/24/2021            0.066902\n",
       "3  1/25/2021            0.067127\n",
       "4  1/26/2021            0.066949"
      ]
     },
     "execution_count": 84,
     "metadata": {},
     "output_type": "execute_result"
    }
   ],
   "source": [
    "daily_vaccines = pd.read_csv('cleaned/compare/us-daily-vaccines-normalized.csv')\n",
    "covid_19_data = pd.read_csv('cleaned/compare/covid_19_data.csv')\n",
    "daily_vaccines.head()\n"
   ]
  },
  {
   "cell_type": "code",
   "execution_count": 85,
   "metadata": {},
   "outputs": [
    {
     "data": {
      "text/html": [
       "<div>\n",
       "<style scoped>\n",
       "    .dataframe tbody tr th:only-of-type {\n",
       "        vertical-align: middle;\n",
       "    }\n",
       "\n",
       "    .dataframe tbody tr th {\n",
       "        vertical-align: top;\n",
       "    }\n",
       "\n",
       "    .dataframe thead th {\n",
       "        text-align: right;\n",
       "    }\n",
       "</style>\n",
       "<table border=\"1\" class=\"dataframe\">\n",
       "  <thead>\n",
       "    <tr style=\"text-align: right;\">\n",
       "      <th></th>\n",
       "      <th>ObservationDate</th>\n",
       "      <th>Confirmed</th>\n",
       "      <th>Deaths</th>\n",
       "      <th>Recovered</th>\n",
       "      <th>date_delta</th>\n",
       "      <th>Confirmed_diff</th>\n",
       "    </tr>\n",
       "  </thead>\n",
       "  <tbody>\n",
       "    <tr>\n",
       "      <th>0</th>\n",
       "      <td>2021-01-22</td>\n",
       "      <td>24902437</td>\n",
       "      <td>421849</td>\n",
       "      <td>0</td>\n",
       "      <td>0.0</td>\n",
       "      <td>0.0</td>\n",
       "    </tr>\n",
       "    <tr>\n",
       "      <th>1</th>\n",
       "      <td>2021-01-23</td>\n",
       "      <td>25073050</td>\n",
       "      <td>425194</td>\n",
       "      <td>0</td>\n",
       "      <td>1.0</td>\n",
       "      <td>170613.0</td>\n",
       "    </tr>\n",
       "    <tr>\n",
       "      <th>2</th>\n",
       "      <td>2021-01-24</td>\n",
       "      <td>25204112</td>\n",
       "      <td>427093</td>\n",
       "      <td>0</td>\n",
       "      <td>2.0</td>\n",
       "      <td>131062.0</td>\n",
       "    </tr>\n",
       "    <tr>\n",
       "      <th>3</th>\n",
       "      <td>2021-01-25</td>\n",
       "      <td>25356081</td>\n",
       "      <td>429066</td>\n",
       "      <td>0</td>\n",
       "      <td>3.0</td>\n",
       "      <td>151969.0</td>\n",
       "    </tr>\n",
       "    <tr>\n",
       "      <th>4</th>\n",
       "      <td>2021-01-26</td>\n",
       "      <td>25503621</td>\n",
       "      <td>433073</td>\n",
       "      <td>0</td>\n",
       "      <td>4.0</td>\n",
       "      <td>147540.0</td>\n",
       "    </tr>\n",
       "  </tbody>\n",
       "</table>\n",
       "</div>"
      ],
      "text/plain": [
       "  ObservationDate  Confirmed  Deaths  Recovered  date_delta  Confirmed_diff\n",
       "0      2021-01-22   24902437  421849          0         0.0             0.0\n",
       "1      2021-01-23   25073050  425194          0         1.0        170613.0\n",
       "2      2021-01-24   25204112  427093          0         2.0        131062.0\n",
       "3      2021-01-25   25356081  429066          0         3.0        151969.0\n",
       "4      2021-01-26   25503621  433073          0         4.0        147540.0"
      ]
     },
     "execution_count": 85,
     "metadata": {},
     "output_type": "execute_result"
    }
   ],
   "source": [
    "covid_19_data['ObservationDate'] = pd.to_datetime(covid_19_data['ObservationDate'])\n",
    "covid_19_data['date_delta'] = (covid_19_data['ObservationDate'] - covid_19_data['ObservationDate'].min())  / np.timedelta64(1,'D')\n",
    "diff=covid_19_data[[\"Confirmed\"]].diff().fillna(0)\n",
    "covid_19_data[\"Confirmed_diff\"]=diff[\"Confirmed\"]\n",
    "covid_19_data.head()"
   ]
  },
  {
   "cell_type": "code",
   "execution_count": 86,
   "metadata": {},
   "outputs": [
    {
     "name": "stdout",
     "output_type": "stream",
     "text": [
      "Pearson's correlation coefficient:-0.6829676521183081\n"
     ]
    }
   ],
   "source": [
    "from scipy import stats\n",
    "print(\"Pearson's correlation coefficient:\"+str(stats.pearsonr(covid_19_data[\"Confirmed_diff\"],daily_vaccines[\"daily_vaccinations\"] )[0]))"
   ]
  },
  {
   "cell_type": "markdown",
   "metadata": {},
   "source": [
    "# Linear Regression country_vaccinations_normalized"
   ]
  },
  {
   "cell_type": "code",
   "execution_count": 87,
   "metadata": {},
   "outputs": [
    {
     "data": {
      "text/html": [
       "<div>\n",
       "<style scoped>\n",
       "    .dataframe tbody tr th:only-of-type {\n",
       "        vertical-align: middle;\n",
       "    }\n",
       "\n",
       "    .dataframe tbody tr th {\n",
       "        vertical-align: top;\n",
       "    }\n",
       "\n",
       "    .dataframe thead th {\n",
       "        text-align: right;\n",
       "    }\n",
       "</style>\n",
       "<table border=\"1\" class=\"dataframe\">\n",
       "  <thead>\n",
       "    <tr style=\"text-align: right;\">\n",
       "      <th></th>\n",
       "      <th>date</th>\n",
       "      <th>total_vaccinations</th>\n",
       "      <th>people_vaccinated</th>\n",
       "      <th>people_fully_vaccinated</th>\n",
       "      <th>date_delta</th>\n",
       "    </tr>\n",
       "  </thead>\n",
       "  <tbody>\n",
       "    <tr>\n",
       "      <th>0</th>\n",
       "      <td>2020-12-20</td>\n",
       "      <td>0.000533</td>\n",
       "      <td>0.000818</td>\n",
       "      <td>0.0</td>\n",
       "      <td>0.0</td>\n",
       "    </tr>\n",
       "    <tr>\n",
       "      <th>1</th>\n",
       "      <td>2020-12-21</td>\n",
       "      <td>0.000588</td>\n",
       "      <td>0.000904</td>\n",
       "      <td>0.0</td>\n",
       "      <td>1.0</td>\n",
       "    </tr>\n",
       "    <tr>\n",
       "      <th>2</th>\n",
       "      <td>2020-12-22</td>\n",
       "      <td>0.000588</td>\n",
       "      <td>0.000904</td>\n",
       "      <td>0.0</td>\n",
       "      <td>2.0</td>\n",
       "    </tr>\n",
       "    <tr>\n",
       "      <th>3</th>\n",
       "      <td>2020-12-23</td>\n",
       "      <td>0.000966</td>\n",
       "      <td>0.001483</td>\n",
       "      <td>0.0</td>\n",
       "      <td>3.0</td>\n",
       "    </tr>\n",
       "    <tr>\n",
       "      <th>4</th>\n",
       "      <td>2020-12-24</td>\n",
       "      <td>0.000966</td>\n",
       "      <td>0.001483</td>\n",
       "      <td>0.0</td>\n",
       "      <td>4.0</td>\n",
       "    </tr>\n",
       "  </tbody>\n",
       "</table>\n",
       "</div>"
      ],
      "text/plain": [
       "        date  total_vaccinations  people_vaccinated  people_fully_vaccinated  \\\n",
       "0 2020-12-20            0.000533           0.000818                      0.0   \n",
       "1 2020-12-21            0.000588           0.000904                      0.0   \n",
       "2 2020-12-22            0.000588           0.000904                      0.0   \n",
       "3 2020-12-23            0.000966           0.001483                      0.0   \n",
       "4 2020-12-24            0.000966           0.001483                      0.0   \n",
       "\n",
       "   date_delta  \n",
       "0         0.0  \n",
       "1         1.0  \n",
       "2         2.0  \n",
       "3         3.0  \n",
       "4         4.0  "
      ]
     },
     "execution_count": 87,
     "metadata": {},
     "output_type": "execute_result"
    }
   ],
   "source": [
    "covid_19_world = pd.read_csv(\"cleaned/COVID-19 World Vaccination Progress/country_vaccinations_normalized.csv\")\n",
    "covid_19_world['date'] = pd.to_datetime(covid_19_world['date'])\n",
    "covid_19_world['date_delta'] = (covid_19_world['date'] - covid_19_world['date'].min())  / np.timedelta64(1,'D')\n",
    "covid_19_world.head()"
   ]
  },
  {
   "cell_type": "code",
   "execution_count": null,
   "metadata": {},
   "outputs": [],
   "source": []
  },
  {
   "cell_type": "code",
   "execution_count": 88,
   "metadata": {},
   "outputs": [
    {
     "name": "stdout",
     "output_type": "stream",
     "text": [
      "mean squared error:0.000112214\n"
     ]
    },
    {
     "data": {
      "image/png": "[encoded data removed]",
      "text/plain": [
       "<Figure size 576x432 with 1 Axes>"
      ]
     },
     "metadata": {
      "needs_background": "light"
     },
     "output_type": "display_data"
    }
   ],
   "source": [
    "from sklearn.linear_model import LinearRegression\n",
    "from sklearn.model_selection import train_test_split\n",
    "from sklearn.metrics import mean_squared_error, r2_score\n",
    "import sklearn.metrics as metrics\n",
    "# daily_vaccines = daily_vaccines.drop('Entity',axis=1)\n",
    "# covid_19_data = covid_19_data.drop(\"ObservationDate\",axis=1)\n",
    "#These will be the attributes we want to use\n",
    "X = covid_19_world.date_delta.values\n",
    "#We want y to be our target. What's are target going to be? Idk yet lol\n",
    "y = covid_19_world.people_vaccinated.values\n",
    "\n",
    "X = X.reshape(len(X), 1)\n",
    "y = y.reshape(len(y), 1)\n",
    "\n",
    "#Here we can choose a random state so we get consistent results across all systems.\n",
    "#80-20 or 70-30 for (test/training is standard)\n",
    "train_x, test_x, train_y, test_y = train_test_split(X,y,test_size = 0.20,random_state=1001)\n",
    "lr = LinearRegression()\n",
    "lr.fit(train_x,train_y)\n",
    "pred_y = lr.predict(test_x)\n",
    "# print(pred_y)\n",
    "mse = metrics.mean_squared_error(test_y, pred_y)\n",
    "mse = f\"{mse:.9f}\"\n",
    "print(\"mean squared error:\"+mse)\n",
    "# print(\"R-squared: {0}\".format(metrics.r2_score(Y,y_pred1)))\n",
    "\n",
    "# Plot outputs\n",
    "plt.figure(figsize=(8, 6))\n",
    "\n",
    "plt.scatter(test_x, test_y,  color='black')\n",
    "plt.plot(test_x, pred_y, color='blue', linewidth=3)\n",
    "# plt.xticks(X)\n",
    "# plt.yticks(())\n",
    "# print(plt.xticks())\n",
    "# plt.xticks((plt.xticks()[0],str(plt.xticks()[0])))\n",
    "xticks=plt.xticks()[0]\n",
    "xticks_str=[]\n",
    "first=covid_19_world['date'].min()\n",
    "for tick in xticks:\n",
    "    # d=dt.datetime.strptime(str(int(tick)),\"%Y%m%d\")\n",
    "    xticks_str.append((first+ timedelta(days=int(tick))).strftime(\"%y/%m/%d\"))\n",
    "plt.xticks(xticks,xticks_str)\n",
    "plt.title(\"Linear Regression People Vaccinated 2020-2021\")\n",
    "\n",
    "plt.show()"
   ]
  },
  {
   "cell_type": "code",
   "execution_count": null,
   "metadata": {},
   "outputs": [],
   "source": []
  },
  {
   "cell_type": "code",
   "execution_count": 89,
   "metadata": {},
   "outputs": [
    {
     "ename": "ModuleNotFoundError",
     "evalue": "No module named 'yellowbrick'",
     "output_type": "error",
     "traceback": [
      "\u001b[0;31m---------------------------------------------------------------------------\u001b[0m",
      "\u001b[0;31mModuleNotFoundError\u001b[0m                       Traceback (most recent call last)",
      "\u001b[0;32m<ipython-input-89-a093f90017db>\u001b[0m in \u001b[0;36m<module>\u001b[0;34m\u001b[0m\n\u001b[0;32m----> 1\u001b[0;31m \u001b[0;32mfrom\u001b[0m \u001b[0myellowbrick\u001b[0m\u001b[0;34m.\u001b[0m\u001b[0mregressor\u001b[0m \u001b[0;32mimport\u001b[0m \u001b[0mResidualsPlot\u001b[0m\u001b[0;34m\u001b[0m\u001b[0;34m\u001b[0m\u001b[0m\n\u001b[0m\u001b[1;32m      2\u001b[0m \u001b[0mvisualizer\u001b[0m \u001b[0;34m=\u001b[0m \u001b[0mResidualsPlot\u001b[0m\u001b[0;34m(\u001b[0m\u001b[0mlr\u001b[0m\u001b[0;34m)\u001b[0m\u001b[0;34m\u001b[0m\u001b[0;34m\u001b[0m\u001b[0m\n\u001b[1;32m      3\u001b[0m \u001b[0mvisualizer\u001b[0m\u001b[0;34m.\u001b[0m\u001b[0mfit\u001b[0m\u001b[0;34m(\u001b[0m\u001b[0mtrain_x\u001b[0m\u001b[0;34m,\u001b[0m \u001b[0mtrain_y\u001b[0m\u001b[0;34m)\u001b[0m  \u001b[0;31m# Fit the training data to the visualizer\u001b[0m\u001b[0;34m\u001b[0m\u001b[0;34m\u001b[0m\u001b[0m\n\u001b[1;32m      4\u001b[0m \u001b[0mvisualizer\u001b[0m\u001b[0;34m.\u001b[0m\u001b[0mscore\u001b[0m\u001b[0;34m(\u001b[0m\u001b[0mtest_x\u001b[0m\u001b[0;34m,\u001b[0m \u001b[0mtest_y\u001b[0m\u001b[0;34m)\u001b[0m  \u001b[0;31m# Evaluate the model on the test data\u001b[0m\u001b[0;34m\u001b[0m\u001b[0;34m\u001b[0m\u001b[0m\n\u001b[1;32m      5\u001b[0m \u001b[0mvisualizer\u001b[0m\u001b[0;34m.\u001b[0m\u001b[0mshow\u001b[0m\u001b[0;34m(\u001b[0m\u001b[0;34m)\u001b[0m                 \u001b[0;31m# Finalize and render the figure\u001b[0m\u001b[0;34m\u001b[0m\u001b[0;34m\u001b[0m\u001b[0m\n",
      "\u001b[0;31mModuleNotFoundError\u001b[0m: No module named 'yellowbrick'"
     ]
    }
   ],
   "source": [
    "from yellowbrick.regressor import ResidualsPlot\n",
    "visualizer = ResidualsPlot(lr)\n",
    "visualizer.fit(train_x, train_y)  # Fit the training data to the visualizer\n",
    "visualizer.score(test_x, test_y)  # Evaluate the model on the test data\n",
    "visualizer.show()                 # Finalize and render the figure"
   ]
  },
  {
   "cell_type": "markdown",
   "metadata": {},
   "source": [
    "## Precentage of people fully vaccinated"
   ]
  },
  {
   "cell_type": "code",
   "execution_count": 90,
   "metadata": {},
   "outputs": [],
   "source": [
    "# TODO total people fully vaccinated /(usa population - fully vaccinated)\n",
    "covid_19_world = pd.read_csv(\"cleaned/COVID-19 World Vaccination Progress/country_vaccinations_grouped_by_month.csv\")\n",
    "\n"
   ]
  },
  {
   "cell_type": "code",
   "execution_count": null,
   "metadata": {},
   "outputs": [],
   "source": []
  },
  {
   "cell_type": "code",
   "execution_count": 91,
   "metadata": {},
   "outputs": [],
   "source": [
    "diff=covid_19_world[[\"people_fully_vaccinated\"]].diff().fillna(0)\n",
    "covid_19_world[\"fully_vaccinated_diff\"]=diff[\"people_fully_vaccinated\"]"
   ]
  },
  {
   "cell_type": "code",
   "execution_count": 92,
   "metadata": {},
   "outputs": [
    {
     "data": {
      "text/html": [
       "<div>\n",
       "<style scoped>\n",
       "    .dataframe tbody tr th:only-of-type {\n",
       "        vertical-align: middle;\n",
       "    }\n",
       "\n",
       "    .dataframe tbody tr th {\n",
       "        vertical-align: top;\n",
       "    }\n",
       "\n",
       "    .dataframe thead th {\n",
       "        text-align: right;\n",
       "    }\n",
       "</style>\n",
       "<table border=\"1\" class=\"dataframe\">\n",
       "  <thead>\n",
       "    <tr style=\"text-align: right;\">\n",
       "      <th></th>\n",
       "      <th>date</th>\n",
       "      <th>total_vaccinations</th>\n",
       "      <th>people_vaccinated</th>\n",
       "      <th>people_fully_vaccinated</th>\n",
       "      <th>fully_vaccinated_diff</th>\n",
       "    </tr>\n",
       "  </thead>\n",
       "  <tbody>\n",
       "    <tr>\n",
       "      <th>0</th>\n",
       "      <td>2020-12-31</td>\n",
       "      <td>2794588.0</td>\n",
       "      <td>2794588.0</td>\n",
       "      <td>0.0</td>\n",
       "      <td>0.0</td>\n",
       "    </tr>\n",
       "    <tr>\n",
       "      <th>1</th>\n",
       "      <td>2021-01-31</td>\n",
       "      <td>31123299.0</td>\n",
       "      <td>25201143.0</td>\n",
       "      <td>5657142.0</td>\n",
       "      <td>5657142.0</td>\n",
       "    </tr>\n",
       "    <tr>\n",
       "      <th>2</th>\n",
       "      <td>2021-02-28</td>\n",
       "      <td>75236003.0</td>\n",
       "      <td>49772180.0</td>\n",
       "      <td>24779920.0</td>\n",
       "      <td>19122778.0</td>\n",
       "    </tr>\n",
       "    <tr>\n",
       "      <th>3</th>\n",
       "      <td>2021-03-31</td>\n",
       "      <td>150273292.0</td>\n",
       "      <td>97593290.0</td>\n",
       "      <td>54607041.0</td>\n",
       "      <td>29827121.0</td>\n",
       "    </tr>\n",
       "    <tr>\n",
       "      <th>4</th>\n",
       "      <td>2021-04-30</td>\n",
       "      <td>209406814.0</td>\n",
       "      <td>131247546.0</td>\n",
       "      <td>84263408.0</td>\n",
       "      <td>29656367.0</td>\n",
       "    </tr>\n",
       "  </tbody>\n",
       "</table>\n",
       "</div>"
      ],
      "text/plain": [
       "         date  total_vaccinations  people_vaccinated  people_fully_vaccinated  \\\n",
       "0  2020-12-31           2794588.0          2794588.0                      0.0   \n",
       "1  2021-01-31          31123299.0         25201143.0                5657142.0   \n",
       "2  2021-02-28          75236003.0         49772180.0               24779920.0   \n",
       "3  2021-03-31         150273292.0         97593290.0               54607041.0   \n",
       "4  2021-04-30         209406814.0        131247546.0               84263408.0   \n",
       "\n",
       "   fully_vaccinated_diff  \n",
       "0                    0.0  \n",
       "1              5657142.0  \n",
       "2             19122778.0  \n",
       "3             29827121.0  \n",
       "4             29656367.0  "
      ]
     },
     "execution_count": 92,
     "metadata": {},
     "output_type": "execute_result"
    }
   ],
   "source": [
    "covid_19_world.head()"
   ]
  },
  {
   "cell_type": "code",
   "execution_count": 97,
   "metadata": {},
   "outputs": [
    {
     "name": "stdout",
     "output_type": "stream",
     "text": [
      "Average number of additional people fully vaccinated every moneth: 16852681.6\n"
     ]
    }
   ],
   "source": [
    "average_diff=covid_19_world[\"fully_vaccinated_diff\"].mean()\n",
    "print(\"Average number of additional people fully vaccinated every moneth: \"+str(average_diff))"
   ]
  },
  {
   "cell_type": "code",
   "execution_count": 98,
   "metadata": {},
   "outputs": [
    {
     "data": {
      "text/html": [
       "<div>\n",
       "<style scoped>\n",
       "    .dataframe tbody tr th:only-of-type {\n",
       "        vertical-align: middle;\n",
       "    }\n",
       "\n",
       "    .dataframe tbody tr th {\n",
       "        vertical-align: top;\n",
       "    }\n",
       "\n",
       "    .dataframe thead th {\n",
       "        text-align: right;\n",
       "    }\n",
       "</style>\n",
       "<table border=\"1\" class=\"dataframe\">\n",
       "  <thead>\n",
       "    <tr style=\"text-align: right;\">\n",
       "      <th></th>\n",
       "      <th>Country (or dependency)</th>\n",
       "      <th>Population (2020)</th>\n",
       "      <th>Density (P/Km�)</th>\n",
       "      <th>Med. Age</th>\n",
       "    </tr>\n",
       "  </thead>\n",
       "  <tbody>\n",
       "    <tr>\n",
       "      <th>0</th>\n",
       "      <td>United States</td>\n",
       "      <td>330610570</td>\n",
       "      <td>36</td>\n",
       "      <td>38</td>\n",
       "    </tr>\n",
       "  </tbody>\n",
       "</table>\n",
       "</div>"
      ],
      "text/plain": [
       "  Country (or dependency)  Population (2020)  Density (P/Km�)  Med. Age\n",
       "0           United States          330610570               36        38"
      ]
     },
     "execution_count": 98,
     "metadata": {},
     "output_type": "execute_result"
    }
   ],
   "source": [
    "population=pd.read_csv(\"cleaned/Countries population by year 2020/population_by_country_2020.csv\")\n",
    "population.head()"
   ]
  },
  {
   "cell_type": "code",
   "execution_count": 99,
   "metadata": {},
   "outputs": [
    {
     "name": "stdout",
     "output_type": "stream",
     "text": [
      "330610570\n"
     ]
    }
   ],
   "source": [
    "population_num=list(population[\"Population (2020)\"])[0]\n",
    "print(population_num)"
   ]
  },
  {
   "cell_type": "code",
   "execution_count": 96,
   "metadata": {},
   "outputs": [
    {
     "name": "stdout",
     "output_type": "stream",
     "text": [
      "25.487209316991894\n"
     ]
    }
   ],
   "source": [
    "last_full_vaccinated=covid_19_world[\"people_fully_vaccinated\"][len(covid_19_world[\"people_fully_vaccinated\"])-1]\n",
    "percentage=(last_full_vaccinated/population_num)*100\n",
    "print(percentage)"
   ]
  },
  {
   "cell_type": "code",
   "execution_count": 102,
   "metadata": {},
   "outputs": [
    {
     "data": {
      "text/plain": [
       "231427399.0"
      ]
     },
     "execution_count": 102,
     "metadata": {},
     "output_type": "execute_result"
    }
   ],
   "source": [
    "need=(population_num*70)/100\n",
    "need"
   ]
  },
  {
   "cell_type": "code",
   "execution_count": 105,
   "metadata": {},
   "outputs": [
    {
     "name": "stdout",
     "output_type": "stream",
     "text": [
      "we will get to 70% in 13.732378294027699 months\n"
     ]
    }
   ],
   "source": [
    "print(\"we will get to 70% in \"+str(need/average_diff)+\" months\")\n"
   ]
  }
 ],
 "metadata": {
  "kernelspec": {
   "display_name": "Python 3",
   "language": "python",
   "name": "python3"
  },
  "language_info": {
   "codemirror_mode": {
    "name": "ipython",
    "version": 3
   },
   "file_extension": ".py",
   "mimetype": "text/x-python",
   "name": "python",
   "nbconvert_exporter": "python",
   "pygments_lexer": "ipython3",
   "version": "3.8.8"
  },
  "metadata": {
   "interpreter": {
    "hash": "d30bd45baaca76a18077a05d095ddff69f9ab9e75f27a8807a430bb99450efea"
   }
  }
 },
 "nbformat": 4,
 "nbformat_minor": 2
}
