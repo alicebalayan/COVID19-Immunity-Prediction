{
 "cells": [
  {
   "cell_type": "code",
   "execution_count": 1,
   "metadata": {},
   "outputs": [],
   "source": [
    "import pandas as pd\n",
    "import numpy as np\n",
    "import matplotlib.pyplot as plt\n",
    "import seaborn as sns\n",
    "from sklearn import preprocessing\n"
   ]
  },
  {
   "cell_type": "markdown",
   "metadata": {},
   "source": [
    "# COVID-19 World Vaccination Progress/country_vaccinations.csv"
   ]
  },
  {
   "cell_type": "code",
   "execution_count": 2,
   "metadata": {},
   "outputs": [
    {
     "name": "stdout",
     "output_type": "stream",
     "text": [
      "country                                0\n",
      "iso_code                               0\n",
      "date                                   0\n",
      "total_vaccinations                     0\n",
      "people_vaccinated                      0\n",
      "people_fully_vaccinated                0\n",
      "daily_vaccinations_raw                 0\n",
      "daily_vaccinations                     0\n",
      "total_vaccinations_per_hundred         0\n",
      "people_vaccinated_per_hundred          0\n",
      "people_fully_vaccinated_per_hundred    0\n",
      "daily_vaccinations_per_million         0\n",
      "dtype: int64\n"
     ]
    }
   ],
   "source": [
    "data = pd.read_csv(\"datasets/COVID-19 World Vaccination Progress/country_vaccinations.csv\")\n",
    "usa_values=data.loc[data['iso_code']=='USA']\n",
    "usa_values=usa_values.fillna(method=\"ffill\")\n",
    "# usa_values=usa_values.fillna(method=\"bfill\")\n",
    "usa_values=usa_values.fillna(0)\n",
    "usa_values=usa_values.drop(columns=['vaccines', 'source_name','source_website'])\n",
    "\n",
    "# printing nan\n",
    "print(usa_values.isna().sum())\n"
   ]
  },
  {
   "cell_type": "markdown",
   "metadata": {},
   "source": [
    "## Box plot to detect outliers"
   ]
  },
  {
   "cell_type": "code",
   "execution_count": 3,
   "metadata": {},
   "outputs": [
    {
     "data": {
      "image/png": "[encoded data removed]",
      "text/plain": [
       "<Figure size 360x360 with 1 Axes>"
      ]
     },
     "metadata": {
      "needs_background": "light"
     },
     "output_type": "display_data"
    }
   ],
   "source": [
    "# No outliers in people fully vaccinated\n",
    "plt.figure(figsize=(5, 5))\n",
    "plt.boxplot(usa_values['people_fully_vaccinated'], notch=True, patch_artist=True)\n",
    "plt.show()"
   ]
  },
  {
   "cell_type": "code",
   "execution_count": 4,
   "metadata": {},
   "outputs": [
    {
     "data": {
      "image/png": "[encoded data removed]",
      "text/plain": [
       "<Figure size 360x360 with 1 Axes>"
      ]
     },
     "metadata": {
      "needs_background": "light"
     },
     "output_type": "display_data"
    }
   ],
   "source": [
    "# No outliers in daily vaccinations\n",
    "plt.figure(figsize=(5, 5))\n",
    "plt.boxplot(usa_values['daily_vaccinations'], notch=True, patch_artist=True)\n",
    "plt.show()"
   ]
  },
  {
   "cell_type": "code",
   "execution_count": 5,
   "metadata": {},
   "outputs": [
    {
     "data": {
      "text/html": [
       "<div>\n",
       "<style scoped>\n",
       "    .dataframe tbody tr th:only-of-type {\n",
       "        vertical-align: middle;\n",
       "    }\n",
       "\n",
       "    .dataframe tbody tr th {\n",
       "        vertical-align: top;\n",
       "    }\n",
       "\n",
       "    .dataframe thead th {\n",
       "        text-align: right;\n",
       "    }\n",
       "</style>\n",
       "<table border=\"1\" class=\"dataframe\">\n",
       "  <thead>\n",
       "    <tr style=\"text-align: right;\">\n",
       "      <th></th>\n",
       "      <th>country</th>\n",
       "      <th>iso_code</th>\n",
       "      <th>date</th>\n",
       "      <th>total_vaccinations</th>\n",
       "      <th>people_vaccinated</th>\n",
       "      <th>people_fully_vaccinated</th>\n",
       "      <th>daily_vaccinations_raw</th>\n",
       "      <th>daily_vaccinations</th>\n",
       "      <th>total_vaccinations_per_hundred</th>\n",
       "      <th>people_vaccinated_per_hundred</th>\n",
       "      <th>people_fully_vaccinated_per_hundred</th>\n",
       "      <th>daily_vaccinations_per_million</th>\n",
       "    </tr>\n",
       "  </thead>\n",
       "  <tbody>\n",
       "    <tr>\n",
       "      <th>12061</th>\n",
       "      <td>United States</td>\n",
       "      <td>USA</td>\n",
       "      <td>2020-12-20</td>\n",
       "      <td>556208.0</td>\n",
       "      <td>556208.0</td>\n",
       "      <td>0.0</td>\n",
       "      <td>0.0</td>\n",
       "      <td>0.0</td>\n",
       "      <td>0.17</td>\n",
       "      <td>0.17</td>\n",
       "      <td>0.0</td>\n",
       "      <td>0.0</td>\n",
       "    </tr>\n",
       "    <tr>\n",
       "      <th>12062</th>\n",
       "      <td>United States</td>\n",
       "      <td>USA</td>\n",
       "      <td>2020-12-21</td>\n",
       "      <td>614117.0</td>\n",
       "      <td>614117.0</td>\n",
       "      <td>0.0</td>\n",
       "      <td>57909.0</td>\n",
       "      <td>57909.0</td>\n",
       "      <td>0.18</td>\n",
       "      <td>0.18</td>\n",
       "      <td>0.0</td>\n",
       "      <td>173.0</td>\n",
       "    </tr>\n",
       "    <tr>\n",
       "      <th>12063</th>\n",
       "      <td>United States</td>\n",
       "      <td>USA</td>\n",
       "      <td>2020-12-22</td>\n",
       "      <td>614117.0</td>\n",
       "      <td>614117.0</td>\n",
       "      <td>0.0</td>\n",
       "      <td>57909.0</td>\n",
       "      <td>127432.0</td>\n",
       "      <td>0.18</td>\n",
       "      <td>0.18</td>\n",
       "      <td>0.0</td>\n",
       "      <td>381.0</td>\n",
       "    </tr>\n",
       "    <tr>\n",
       "      <th>12064</th>\n",
       "      <td>United States</td>\n",
       "      <td>USA</td>\n",
       "      <td>2020-12-23</td>\n",
       "      <td>1008025.0</td>\n",
       "      <td>1008025.0</td>\n",
       "      <td>0.0</td>\n",
       "      <td>57909.0</td>\n",
       "      <td>150606.0</td>\n",
       "      <td>0.30</td>\n",
       "      <td>0.30</td>\n",
       "      <td>0.0</td>\n",
       "      <td>450.0</td>\n",
       "    </tr>\n",
       "    <tr>\n",
       "      <th>12065</th>\n",
       "      <td>United States</td>\n",
       "      <td>USA</td>\n",
       "      <td>2020-12-24</td>\n",
       "      <td>1008025.0</td>\n",
       "      <td>1008025.0</td>\n",
       "      <td>0.0</td>\n",
       "      <td>57909.0</td>\n",
       "      <td>191001.0</td>\n",
       "      <td>0.30</td>\n",
       "      <td>0.30</td>\n",
       "      <td>0.0</td>\n",
       "      <td>571.0</td>\n",
       "    </tr>\n",
       "  </tbody>\n",
       "</table>\n",
       "</div>"
      ],
      "text/plain": [
       "             country iso_code        date  total_vaccinations  \\\n",
       "12061  United States      USA  2020-12-20            556208.0   \n",
       "12062  United States      USA  2020-12-21            614117.0   \n",
       "12063  United States      USA  2020-12-22            614117.0   \n",
       "12064  United States      USA  2020-12-23           1008025.0   \n",
       "12065  United States      USA  2020-12-24           1008025.0   \n",
       "\n",
       "       people_vaccinated  people_fully_vaccinated  daily_vaccinations_raw  \\\n",
       "12061           556208.0                      0.0                     0.0   \n",
       "12062           614117.0                      0.0                 57909.0   \n",
       "12063           614117.0                      0.0                 57909.0   \n",
       "12064          1008025.0                      0.0                 57909.0   \n",
       "12065          1008025.0                      0.0                 57909.0   \n",
       "\n",
       "       daily_vaccinations  total_vaccinations_per_hundred  \\\n",
       "12061                 0.0                            0.17   \n",
       "12062             57909.0                            0.18   \n",
       "12063            127432.0                            0.18   \n",
       "12064            150606.0                            0.30   \n",
       "12065            191001.0                            0.30   \n",
       "\n",
       "       people_vaccinated_per_hundred  people_fully_vaccinated_per_hundred  \\\n",
       "12061                           0.17                                  0.0   \n",
       "12062                           0.18                                  0.0   \n",
       "12063                           0.18                                  0.0   \n",
       "12064                           0.30                                  0.0   \n",
       "12065                           0.30                                  0.0   \n",
       "\n",
       "       daily_vaccinations_per_million  \n",
       "12061                             0.0  \n",
       "12062                           173.0  \n",
       "12063                           381.0  \n",
       "12064                           450.0  \n",
       "12065                           571.0  "
      ]
     },
     "execution_count": 5,
     "metadata": {},
     "output_type": "execute_result"
    }
   ],
   "source": [
    "usa_values.head()"
   ]
  },
  {
   "cell_type": "code",
   "execution_count": 6,
   "metadata": {},
   "outputs": [
    {
     "data": {
      "text/html": [
       "<div>\n",
       "<style scoped>\n",
       "    .dataframe tbody tr th:only-of-type {\n",
       "        vertical-align: middle;\n",
       "    }\n",
       "\n",
       "    .dataframe tbody tr th {\n",
       "        vertical-align: top;\n",
       "    }\n",
       "\n",
       "    .dataframe thead th {\n",
       "        text-align: right;\n",
       "    }\n",
       "</style>\n",
       "<table border=\"1\" class=\"dataframe\">\n",
       "  <thead>\n",
       "    <tr style=\"text-align: right;\">\n",
       "      <th></th>\n",
       "      <th>date</th>\n",
       "      <th>total_vaccinations</th>\n",
       "      <th>people_vaccinated</th>\n",
       "      <th>people_fully_vaccinated</th>\n",
       "    </tr>\n",
       "  </thead>\n",
       "  <tbody>\n",
       "    <tr>\n",
       "      <th>12061</th>\n",
       "      <td>2020-12-20</td>\n",
       "      <td>556208.0</td>\n",
       "      <td>556208.0</td>\n",
       "      <td>0.0</td>\n",
       "    </tr>\n",
       "    <tr>\n",
       "      <th>12062</th>\n",
       "      <td>2020-12-21</td>\n",
       "      <td>614117.0</td>\n",
       "      <td>614117.0</td>\n",
       "      <td>0.0</td>\n",
       "    </tr>\n",
       "    <tr>\n",
       "      <th>12063</th>\n",
       "      <td>2020-12-22</td>\n",
       "      <td>614117.0</td>\n",
       "      <td>614117.0</td>\n",
       "      <td>0.0</td>\n",
       "    </tr>\n",
       "    <tr>\n",
       "      <th>12064</th>\n",
       "      <td>2020-12-23</td>\n",
       "      <td>1008025.0</td>\n",
       "      <td>1008025.0</td>\n",
       "      <td>0.0</td>\n",
       "    </tr>\n",
       "    <tr>\n",
       "      <th>12065</th>\n",
       "      <td>2020-12-24</td>\n",
       "      <td>1008025.0</td>\n",
       "      <td>1008025.0</td>\n",
       "      <td>0.0</td>\n",
       "    </tr>\n",
       "  </tbody>\n",
       "</table>\n",
       "</div>"
      ],
      "text/plain": [
       "             date  total_vaccinations  people_vaccinated  \\\n",
       "12061  2020-12-20            556208.0           556208.0   \n",
       "12062  2020-12-21            614117.0           614117.0   \n",
       "12063  2020-12-22            614117.0           614117.0   \n",
       "12064  2020-12-23           1008025.0          1008025.0   \n",
       "12065  2020-12-24           1008025.0          1008025.0   \n",
       "\n",
       "       people_fully_vaccinated  \n",
       "12061                      0.0  \n",
       "12062                      0.0  \n",
       "12063                      0.0  \n",
       "12064                      0.0  \n",
       "12065                      0.0  "
      ]
     },
     "execution_count": 6,
     "metadata": {},
     "output_type": "execute_result"
    }
   ],
   "source": [
    "usa_values=usa_values[['date','total_vaccinations','people_vaccinated','people_fully_vaccinated']]\n",
    "usa_values.head()"
   ]
  },
  {
   "cell_type": "code",
   "execution_count": 7,
   "metadata": {},
   "outputs": [],
   "source": [
    "import os\n",
    "if not os.path.exists('cleaned/COVID-19 World Vaccination Progress'):\n",
    "    os.makedirs('cleaned/COVID-19 World Vaccination Progress')\n",
    "f=open(f'cleaned/COVID-19 World Vaccination Progress/country_vaccinations.csv', \"w\")\n",
    "usa_values.to_csv(path_or_buf=f,index=False,line_terminator='\\n')\n",
    "f.close()"
   ]
  },
  {
   "cell_type": "code",
   "execution_count": 8,
   "metadata": {},
   "outputs": [],
   "source": [
    "data = usa_values['total_vaccinations']\n",
    "normalized_arr = preprocessing.normalize([data])\n",
    "usa_values['total_vaccinations']=normalized_arr[0]\n",
    "data = usa_values['people_vaccinated']\n",
    "normalized_arr = preprocessing.normalize([data])\n",
    "usa_values['people_vaccinated']=normalized_arr[0]\n",
    "data = usa_values['people_fully_vaccinated']\n",
    "normalized_arr = preprocessing.normalize([data])\n",
    "usa_values['people_fully_vaccinated']=normalized_arr[0]"
   ]
  },
  {
   "cell_type": "code",
   "execution_count": 9,
   "metadata": {},
   "outputs": [
    {
     "data": {
      "text/html": [
       "<div>\n",
       "<style scoped>\n",
       "    .dataframe tbody tr th:only-of-type {\n",
       "        vertical-align: middle;\n",
       "    }\n",
       "\n",
       "    .dataframe tbody tr th {\n",
       "        vertical-align: top;\n",
       "    }\n",
       "\n",
       "    .dataframe thead th {\n",
       "        text-align: right;\n",
       "    }\n",
       "</style>\n",
       "<table border=\"1\" class=\"dataframe\">\n",
       "  <thead>\n",
       "    <tr style=\"text-align: right;\">\n",
       "      <th></th>\n",
       "      <th>date</th>\n",
       "      <th>total_vaccinations</th>\n",
       "      <th>people_vaccinated</th>\n",
       "      <th>people_fully_vaccinated</th>\n",
       "    </tr>\n",
       "  </thead>\n",
       "  <tbody>\n",
       "    <tr>\n",
       "      <th>12061</th>\n",
       "      <td>2020-12-20</td>\n",
       "      <td>0.000533</td>\n",
       "      <td>0.000818</td>\n",
       "      <td>0.0</td>\n",
       "    </tr>\n",
       "    <tr>\n",
       "      <th>12062</th>\n",
       "      <td>2020-12-21</td>\n",
       "      <td>0.000588</td>\n",
       "      <td>0.000904</td>\n",
       "      <td>0.0</td>\n",
       "    </tr>\n",
       "    <tr>\n",
       "      <th>12063</th>\n",
       "      <td>2020-12-22</td>\n",
       "      <td>0.000588</td>\n",
       "      <td>0.000904</td>\n",
       "      <td>0.0</td>\n",
       "    </tr>\n",
       "    <tr>\n",
       "      <th>12064</th>\n",
       "      <td>2020-12-23</td>\n",
       "      <td>0.000966</td>\n",
       "      <td>0.001483</td>\n",
       "      <td>0.0</td>\n",
       "    </tr>\n",
       "    <tr>\n",
       "      <th>12065</th>\n",
       "      <td>2020-12-24</td>\n",
       "      <td>0.000966</td>\n",
       "      <td>0.001483</td>\n",
       "      <td>0.0</td>\n",
       "    </tr>\n",
       "  </tbody>\n",
       "</table>\n",
       "</div>"
      ],
      "text/plain": [
       "             date  total_vaccinations  people_vaccinated  \\\n",
       "12061  2020-12-20            0.000533           0.000818   \n",
       "12062  2020-12-21            0.000588           0.000904   \n",
       "12063  2020-12-22            0.000588           0.000904   \n",
       "12064  2020-12-23            0.000966           0.001483   \n",
       "12065  2020-12-24            0.000966           0.001483   \n",
       "\n",
       "       people_fully_vaccinated  \n",
       "12061                      0.0  \n",
       "12062                      0.0  \n",
       "12063                      0.0  \n",
       "12064                      0.0  \n",
       "12065                      0.0  "
      ]
     },
     "execution_count": 9,
     "metadata": {},
     "output_type": "execute_result"
    }
   ],
   "source": [
    "usa_values.head()"
   ]
  },
  {
   "cell_type": "code",
   "execution_count": 10,
   "metadata": {},
   "outputs": [],
   "source": [
    "import os\n",
    "if not os.path.exists('cleaned/COVID-19 World Vaccination Progress'):\n",
    "    os.makedirs('cleaned/COVID-19 World Vaccination Progress')\n",
    "f=open(f'cleaned/COVID-19 World Vaccination Progress/country_vaccinations_normalized.csv', \"w\")\n",
    "usa_values.to_csv(path_or_buf=f,index=False,line_terminator='\\n')\n",
    "f.close()"
   ]
  },
  {
   "cell_type": "code",
   "execution_count": 11,
   "metadata": {},
   "outputs": [
    {
     "data": {
      "text/html": [
       "<div>\n",
       "<style scoped>\n",
       "    .dataframe tbody tr th:only-of-type {\n",
       "        vertical-align: middle;\n",
       "    }\n",
       "\n",
       "    .dataframe tbody tr th {\n",
       "        vertical-align: top;\n",
       "    }\n",
       "\n",
       "    .dataframe thead th {\n",
       "        text-align: right;\n",
       "    }\n",
       "</style>\n",
       "<table border=\"1\" class=\"dataframe\">\n",
       "  <thead>\n",
       "    <tr style=\"text-align: right;\">\n",
       "      <th></th>\n",
       "      <th>date</th>\n",
       "      <th>total_vaccinations</th>\n",
       "      <th>people_vaccinated</th>\n",
       "      <th>people_fully_vaccinated</th>\n",
       "    </tr>\n",
       "  </thead>\n",
       "  <tbody>\n",
       "    <tr>\n",
       "      <th>0</th>\n",
       "      <td>2020-12-31</td>\n",
       "      <td>0.017759</td>\n",
       "      <td>0.027280</td>\n",
       "      <td>0.000000</td>\n",
       "    </tr>\n",
       "    <tr>\n",
       "      <th>1</th>\n",
       "      <td>2021-01-31</td>\n",
       "      <td>0.419314</td>\n",
       "      <td>0.559660</td>\n",
       "      <td>0.141341</td>\n",
       "    </tr>\n",
       "    <tr>\n",
       "      <th>2</th>\n",
       "      <td>2021-02-28</td>\n",
       "      <td>1.406481</td>\n",
       "      <td>1.554059</td>\n",
       "      <td>1.041775</td>\n",
       "    </tr>\n",
       "    <tr>\n",
       "      <th>3</th>\n",
       "      <td>2021-03-31</td>\n",
       "      <td>3.324485</td>\n",
       "      <td>3.335321</td>\n",
       "      <td>3.190814</td>\n",
       "    </tr>\n",
       "    <tr>\n",
       "      <th>4</th>\n",
       "      <td>2021-04-30</td>\n",
       "      <td>3.124540</td>\n",
       "      <td>3.063121</td>\n",
       "      <td>3.287103</td>\n",
       "    </tr>\n",
       "  </tbody>\n",
       "</table>\n",
       "</div>"
      ],
      "text/plain": [
       "        date  total_vaccinations  people_vaccinated  people_fully_vaccinated\n",
       "0 2020-12-31            0.017759           0.027280                 0.000000\n",
       "1 2021-01-31            0.419314           0.559660                 0.141341\n",
       "2 2021-02-28            1.406481           1.554059                 1.041775\n",
       "3 2021-03-31            3.324485           3.335321                 3.190814\n",
       "4 2021-04-30            3.124540           3.063121                 3.287103"
      ]
     },
     "execution_count": 11,
     "metadata": {},
     "output_type": "execute_result"
    }
   ],
   "source": [
    "usa_values['date'] = pd.to_datetime(usa_values.date)\n",
    "\n",
    "groupedByMonth=usa_values.groupby(pd.Grouper(key='date', freq='1M')).sum().reset_index()\n",
    "groupedByMonth.head()"
   ]
  },
  {
   "cell_type": "code",
   "execution_count": 12,
   "metadata": {},
   "outputs": [],
   "source": [
    "import os\n",
    "if not os.path.exists('cleaned/COVID-19 World Vaccination Progress'):\n",
    "    os.makedirs('cleaned/COVID-19 World Vaccination Progress')\n",
    "f=open(f'cleaned/COVID-19 World Vaccination Progress/country_vaccinations_normalized_grouped_by_month.csv', \"w\")\n",
    "groupedByMonth.to_csv(path_or_buf=f,index=False,line_terminator='\\n')\n",
    "f.close()"
   ]
  },
  {
   "cell_type": "code",
   "execution_count": null,
   "metadata": {},
   "outputs": [],
   "source": []
  },
  {
   "cell_type": "markdown",
   "metadata": {},
   "source": [
    "# us-daily-vaccines.csv"
   ]
  },
  {
   "cell_type": "code",
   "execution_count": 13,
   "metadata": {},
   "outputs": [
    {
     "name": "stdout",
     "output_type": "stream",
     "text": [
      "Entity                0\n",
      "Day                   0\n",
      "daily_vaccinations    0\n",
      "dtype: int64\n"
     ]
    },
    {
     "data": {
      "text/html": [
       "<div>\n",
       "<style scoped>\n",
       "    .dataframe tbody tr th:only-of-type {\n",
       "        vertical-align: middle;\n",
       "    }\n",
       "\n",
       "    .dataframe tbody tr th {\n",
       "        vertical-align: top;\n",
       "    }\n",
       "\n",
       "    .dataframe thead th {\n",
       "        text-align: right;\n",
       "    }\n",
       "</style>\n",
       "<table border=\"1\" class=\"dataframe\">\n",
       "  <thead>\n",
       "    <tr style=\"text-align: right;\">\n",
       "      <th></th>\n",
       "      <th>daily_vaccinations</th>\n",
       "    </tr>\n",
       "  </thead>\n",
       "  <tbody>\n",
       "    <tr>\n",
       "      <th>count</th>\n",
       "      <td>5050.000000</td>\n",
       "    </tr>\n",
       "    <tr>\n",
       "      <th>mean</th>\n",
       "      <td>40493.919010</td>\n",
       "    </tr>\n",
       "    <tr>\n",
       "      <th>std</th>\n",
       "      <td>53026.532755</td>\n",
       "    </tr>\n",
       "    <tr>\n",
       "      <th>min</th>\n",
       "      <td>0.000000</td>\n",
       "    </tr>\n",
       "    <tr>\n",
       "      <th>25%</th>\n",
       "      <td>10468.250000</td>\n",
       "    </tr>\n",
       "    <tr>\n",
       "      <th>50%</th>\n",
       "      <td>23898.500000</td>\n",
       "    </tr>\n",
       "    <tr>\n",
       "      <th>75%</th>\n",
       "      <td>48924.000000</td>\n",
       "    </tr>\n",
       "    <tr>\n",
       "      <th>max</th>\n",
       "      <td>494575.000000</td>\n",
       "    </tr>\n",
       "  </tbody>\n",
       "</table>\n",
       "</div>"
      ],
      "text/plain": [
       "       daily_vaccinations\n",
       "count         5050.000000\n",
       "mean         40493.919010\n",
       "std          53026.532755\n",
       "min              0.000000\n",
       "25%          10468.250000\n",
       "50%          23898.500000\n",
       "75%          48924.000000\n",
       "max         494575.000000"
      ]
     },
     "execution_count": 13,
     "metadata": {},
     "output_type": "execute_result"
    }
   ],
   "source": [
    "us_daily_vaccines=pd.read_csv(\"datasets/us-daily-vaccines.csv\")\n",
    "\n",
    "\n",
    "states_to_exclude=[\"American Samoa\",\"Bureau of Prisons\",\"Dept of Defense\",\"District of Columbia\",\"Federated States of Micronesia\",\"Guam\",\"Indian Health Svc\",\"Long Term Care\",\"Marshall Islands\",\"Northern Mariana Islands\",\"Puerto Rico\",\"Republic of Palau\",\"Veterans Health\",\"United States\",\"Virgin Islands\"]\n",
    "\n",
    "us_daily_vaccines=us_daily_vaccines.drop(columns=['Code'])\n",
    "\n",
    "count =0\n",
    "for s in states_to_exclude:\n",
    "    us_daily_vaccines=us_daily_vaccines[us_daily_vaccines['Entity']!=states_to_exclude[count]]\n",
    "    count+=1\n",
    "\n",
    "# printing nan\n",
    "print(us_daily_vaccines.isna().sum())\n",
    "us_daily_vaccines.describe()\n"
   ]
  },
  {
   "cell_type": "code",
   "execution_count": 14,
   "metadata": {},
   "outputs": [
    {
     "data": {
      "text/html": [
       "<div>\n",
       "<style scoped>\n",
       "    .dataframe tbody tr th:only-of-type {\n",
       "        vertical-align: middle;\n",
       "    }\n",
       "\n",
       "    .dataframe tbody tr th {\n",
       "        vertical-align: top;\n",
       "    }\n",
       "\n",
       "    .dataframe thead th {\n",
       "        text-align: right;\n",
       "    }\n",
       "</style>\n",
       "<table border=\"1\" class=\"dataframe\">\n",
       "  <thead>\n",
       "    <tr style=\"text-align: right;\">\n",
       "      <th></th>\n",
       "      <th>Entity</th>\n",
       "      <th>Day</th>\n",
       "      <th>daily_vaccinations</th>\n",
       "    </tr>\n",
       "  </thead>\n",
       "  <tbody>\n",
       "    <tr>\n",
       "      <th>0</th>\n",
       "      <td>Alabama</td>\n",
       "      <td>2021-01-13</td>\n",
       "      <td>5906</td>\n",
       "    </tr>\n",
       "    <tr>\n",
       "      <th>1</th>\n",
       "      <td>Alabama</td>\n",
       "      <td>2021-01-14</td>\n",
       "      <td>7083</td>\n",
       "    </tr>\n",
       "    <tr>\n",
       "      <th>2</th>\n",
       "      <td>Alabama</td>\n",
       "      <td>2021-01-15</td>\n",
       "      <td>7478</td>\n",
       "    </tr>\n",
       "    <tr>\n",
       "      <th>3</th>\n",
       "      <td>Alabama</td>\n",
       "      <td>2021-01-16</td>\n",
       "      <td>7498</td>\n",
       "    </tr>\n",
       "    <tr>\n",
       "      <th>4</th>\n",
       "      <td>Alabama</td>\n",
       "      <td>2021-01-17</td>\n",
       "      <td>7509</td>\n",
       "    </tr>\n",
       "  </tbody>\n",
       "</table>\n",
       "</div>"
      ],
      "text/plain": [
       "    Entity         Day  daily_vaccinations\n",
       "0  Alabama  2021-01-13                5906\n",
       "1  Alabama  2021-01-14                7083\n",
       "2  Alabama  2021-01-15                7478\n",
       "3  Alabama  2021-01-16                7498\n",
       "4  Alabama  2021-01-17                7509"
      ]
     },
     "execution_count": 14,
     "metadata": {},
     "output_type": "execute_result"
    }
   ],
   "source": [
    "us_daily_vaccines.head()"
   ]
  },
  {
   "cell_type": "code",
   "execution_count": null,
   "metadata": {},
   "outputs": [],
   "source": []
  },
  {
   "cell_type": "markdown",
   "metadata": {},
   "source": [
    "## Boxplot to detect outliers. "
   ]
  },
  {
   "cell_type": "code",
   "execution_count": 15,
   "metadata": {},
   "outputs": [
    {
     "data": {
      "image/png": "[encoded data removed]",
      "text/plain": [
       "<Figure size 360x360 with 1 Axes>"
      ]
     },
     "metadata": {
      "needs_background": "light"
     },
     "output_type": "display_data"
    }
   ],
   "source": [
    "plt.figure(figsize=(5, 5))\n",
    "plt.boxplot(us_daily_vaccines['daily_vaccinations'], notch=True, patch_artist=True)\n",
    "plt.show()\n"
   ]
  },
  {
   "cell_type": "markdown",
   "metadata": {},
   "source": [
    "### Hide outliers"
   ]
  },
  {
   "cell_type": "code",
   "execution_count": 16,
   "metadata": {},
   "outputs": [
    {
     "data": {
      "image/png": "[encoded data removed]",
      "text/plain": [
       "<Figure size 360x360 with 1 Axes>"
      ]
     },
     "metadata": {
      "needs_background": "light"
     },
     "output_type": "display_data"
    }
   ],
   "source": [
    "plt.figure(figsize=(5, 5))\n",
    "plt.boxplot(us_daily_vaccines['daily_vaccinations'], notch=True, patch_artist=True, showfliers=False)\n",
    "plt.show()"
   ]
  },
  {
   "cell_type": "markdown",
   "metadata": {},
   "source": [
    "## IQR range to find statistical dispersion."
   ]
  },
  {
   "cell_type": "code",
   "execution_count": 17,
   "metadata": {},
   "outputs": [
    {
     "data": {
      "text/plain": [
       "38455.75"
      ]
     },
     "execution_count": 17,
     "metadata": {},
     "output_type": "execute_result"
    }
   ],
   "source": [
    "from scipy.stats import iqr\n",
    "\n",
    "data = us_daily_vaccines['daily_vaccinations']\n",
    "iqr(data, axis=0)\n"
   ]
  },
  {
   "cell_type": "code",
   "execution_count": 18,
   "metadata": {},
   "outputs": [
    {
     "name": "stdout",
     "output_type": "stream",
     "text": [
      "(5050, 3)\n",
      "10468.25\n",
      "48924.0\n",
      "(3787, 3)\n"
     ]
    }
   ],
   "source": [
    "'''\n",
    "Warning!!!!!!!!!!!!!!!!!!!!!!!!!!!!!!\n",
    "every time you run this block it will remove outliers assumed to be in Q3\n",
    "'''\n",
    "print(us_daily_vaccines.shape)\n",
    "#find Q1, Q3, and interquartile range for each column\n",
    "Q1 =  us_daily_vaccines[\"daily_vaccinations\"].quantile(q=.25)\n",
    "Q3 =  us_daily_vaccines[\"daily_vaccinations\"].quantile(q=.75)\n",
    "IQR = us_daily_vaccines[\"daily_vaccinations\"].apply(iqr)\n",
    "print(Q1)\n",
    "print(Q3)\n",
    "#only keep rows in dataframe that have values within 1.5*IQR of Q1 and Q3\n",
    "us_daily_vaccines = us_daily_vaccines[~((us_daily_vaccines[\"daily_vaccinations\"] > (Q3+1.5*IQR)))]\n",
    "\n",
    "print(us_daily_vaccines.shape)\n"
   ]
  },
  {
   "cell_type": "markdown",
   "metadata": {},
   "source": [
    "## Boxplot graph without outliers"
   ]
  },
  {
   "cell_type": "code",
   "execution_count": 19,
   "metadata": {},
   "outputs": [
    {
     "data": {
      "image/png": "[encoded data removed]",
      "text/plain": [
       "<Figure size 360x360 with 1 Axes>"
      ]
     },
     "metadata": {
      "needs_background": "light"
     },
     "output_type": "display_data"
    }
   ],
   "source": [
    "plt.figure(figsize=(5, 5))\n",
    "plt.boxplot(us_daily_vaccines['daily_vaccinations'], notch=True, patch_artist=True)\n",
    "plt.show()"
   ]
  },
  {
   "cell_type": "markdown",
   "metadata": {},
   "source": [
    "## group by month whole USA (discretize data)"
   ]
  },
  {
   "cell_type": "code",
   "execution_count": 20,
   "metadata": {},
   "outputs": [
    {
     "data": {
      "text/html": [
       "<div>\n",
       "<style scoped>\n",
       "    .dataframe tbody tr th:only-of-type {\n",
       "        vertical-align: middle;\n",
       "    }\n",
       "\n",
       "    .dataframe tbody tr th {\n",
       "        vertical-align: top;\n",
       "    }\n",
       "\n",
       "    .dataframe thead th {\n",
       "        text-align: right;\n",
       "    }\n",
       "</style>\n",
       "<table border=\"1\" class=\"dataframe\">\n",
       "  <thead>\n",
       "    <tr style=\"text-align: right;\">\n",
       "      <th></th>\n",
       "      <th>Day</th>\n",
       "      <th>daily_vaccinations</th>\n",
       "    </tr>\n",
       "  </thead>\n",
       "  <tbody>\n",
       "    <tr>\n",
       "      <th>0</th>\n",
       "      <td>2021-01-31</td>\n",
       "      <td>11931240</td>\n",
       "    </tr>\n",
       "    <tr>\n",
       "      <th>1</th>\n",
       "      <td>2021-02-28</td>\n",
       "      <td>22411094</td>\n",
       "    </tr>\n",
       "    <tr>\n",
       "      <th>2</th>\n",
       "      <td>2021-03-31</td>\n",
       "      <td>23155738</td>\n",
       "    </tr>\n",
       "    <tr>\n",
       "      <th>3</th>\n",
       "      <td>2021-04-30</td>\n",
       "      <td>14708084</td>\n",
       "    </tr>\n",
       "  </tbody>\n",
       "</table>\n",
       "</div>"
      ],
      "text/plain": [
       "         Day  daily_vaccinations\n",
       "0 2021-01-31            11931240\n",
       "1 2021-02-28            22411094\n",
       "2 2021-03-31            23155738\n",
       "3 2021-04-30            14708084"
      ]
     },
     "execution_count": 20,
     "metadata": {},
     "output_type": "execute_result"
    }
   ],
   "source": [
    "us_daily_vaccines['Day'] = pd.to_datetime(us_daily_vaccines.Day)\n",
    "\n",
    "groupedByMonth=us_daily_vaccines.groupby(pd.Grouper(key='Day', freq='1M')).sum().reset_index()\n",
    "groupedByMonth.head()"
   ]
  },
  {
   "cell_type": "code",
   "execution_count": 21,
   "metadata": {},
   "outputs": [],
   "source": [
    "import os\n",
    "if not os.path.exists('cleaned'):\n",
    "    os.makedirs('cleaned')\n",
    "f=open(f'cleaned/us-daily-vaccines-discretize-not-normalized.csv', \"w\")\n",
    "groupedByMonth.to_csv(path_or_buf=f,index=False,line_terminator='\\n')\n",
    "f.close()\n"
   ]
  },
  {
   "cell_type": "code",
   "execution_count": 22,
   "metadata": {},
   "outputs": [],
   "source": [
    "data = groupedByMonth['daily_vaccinations']\n",
    "normalized_arr = preprocessing.normalize([data])\n",
    "groupedByMonth['daily_vaccinations'] = normalized_arr[0]\n"
   ]
  },
  {
   "cell_type": "code",
   "execution_count": 23,
   "metadata": {},
   "outputs": [],
   "source": [
    "import os\n",
    "if not os.path.exists('cleaned'):\n",
    "    os.makedirs('cleaned')\n",
    "f=open(f'cleaned/us-daily-vaccines-discretize-normalized.csv', \"w\")\n",
    "groupedByMonth.to_csv(path_or_buf=f,index=False,line_terminator='\\n')\n",
    "f.close()"
   ]
  },
  {
   "cell_type": "markdown",
   "metadata": {},
   "source": [
    "## Graph normal distribution of the dataset"
   ]
  },
  {
   "cell_type": "code",
   "execution_count": 24,
   "metadata": {},
   "outputs": [
    {
     "data": {
      "text/plain": [
       "[<matplotlib.lines.Line2D at 0x7f97b7e3d6a0>]"
      ]
     },
     "execution_count": 24,
     "metadata": {},
     "output_type": "execute_result"
    },
    {
     "data": {
      "image/png": "[encoded data removed]",
      "text/plain": [
       "<Figure size 432x288 with 1 Axes>"
      ]
     },
     "metadata": {
      "needs_background": "light"
     },
     "output_type": "display_data"
    }
   ],
   "source": [
    "from scipy.stats import norm\n",
    "import statistics\n",
    "\n",
    "data = us_daily_vaccines['daily_vaccinations']\n",
    "mean = statistics.mean(data)\n",
    "sd = statistics.stdev(data)\n",
    "# norm.pdf(data, mean, sd)\n",
    "# plt.plot(norm.pdf(data, mean, sd))\n",
    "# plt.show()\n",
    "plt.plot(data, norm.pdf(data, mean, sd))\n",
    "# plt.show()"
   ]
  },
  {
   "cell_type": "markdown",
   "metadata": {},
   "source": [
    "## Preprocess and normalize the data"
   ]
  },
  {
   "cell_type": "code",
   "execution_count": 25,
   "metadata": {},
   "outputs": [
    {
     "name": "stdout",
     "output_type": "stream",
     "text": [
      "[[0.00417842 0.00501113 0.00529058 ... 0.00159892 0.00205525 0.00175669]]\n"
     ]
    },
    {
     "data": {
      "image/png": "[encoded data removed]",
      "text/plain": [
       "<Figure size 432x288 with 1 Axes>"
      ]
     },
     "metadata": {
      "needs_background": "light"
     },
     "output_type": "display_data"
    },
    {
     "data": {
      "image/png": "[encoded data removed]",
      "text/plain": [
       "<Figure size 432x288 with 1 Axes>"
      ]
     },
     "metadata": {
      "needs_background": "light"
     },
     "output_type": "display_data"
    }
   ],
   "source": [
    "data = us_daily_vaccines['daily_vaccinations']\n",
    "normalized_arr = preprocessing.normalize([data])\n",
    "print(normalized_arr)\n",
    "\n",
    "plt.plot( us_daily_vaccines['daily_vaccinations'])\n",
    "plt.show()\n",
    "plt.plot(normalized_arr[0])\n",
    "plt.show()"
   ]
  },
  {
   "cell_type": "code",
   "execution_count": 26,
   "metadata": {},
   "outputs": [],
   "source": [
    "import os\n",
    "if not os.path.exists('cleaned'):\n",
    "    os.makedirs('cleaned')\n",
    "f=open(f'cleaned/us-daily-vaccines.csv', \"w\")\n",
    "us_daily_vaccines.to_csv(path_or_buf=f,index=False,line_terminator='\\n')\n",
    "f.close()"
   ]
  },
  {
   "cell_type": "code",
   "execution_count": 27,
   "metadata": {},
   "outputs": [],
   "source": [
    "us_daily_vaccines['daily_vaccinations'] = normalized_arr[0]\n",
    "import os\n",
    "if not os.path.exists('cleaned'):\n",
    "    os.makedirs('cleaned')\n",
    "f=open(f'cleaned/us-daily-vaccines-normalized.csv', \"w\")\n",
    "us_daily_vaccines.to_csv(path_or_buf=f,index=False,line_terminator='\\n')\n",
    "f.close()"
   ]
  },
  {
   "cell_type": "code",
   "execution_count": null,
   "metadata": {},
   "outputs": [],
   "source": []
  },
  {
   "cell_type": "markdown",
   "metadata": {},
   "source": [
    "# Novel Corona Virus 2019 Dataset/covid_19_data.csv\n"
   ]
  },
  {
   "cell_type": "code",
   "execution_count": 28,
   "metadata": {},
   "outputs": [
    {
     "data": {
      "text/html": [
       "<div>\n",
       "<style scoped>\n",
       "    .dataframe tbody tr th:only-of-type {\n",
       "        vertical-align: middle;\n",
       "    }\n",
       "\n",
       "    .dataframe tbody tr th {\n",
       "        vertical-align: top;\n",
       "    }\n",
       "\n",
       "    .dataframe thead th {\n",
       "        text-align: right;\n",
       "    }\n",
       "</style>\n",
       "<table border=\"1\" class=\"dataframe\">\n",
       "  <thead>\n",
       "    <tr style=\"text-align: right;\">\n",
       "      <th></th>\n",
       "      <th>SNo</th>\n",
       "      <th>ObservationDate</th>\n",
       "      <th>Province/State</th>\n",
       "      <th>Country/Region</th>\n",
       "      <th>Last Update</th>\n",
       "      <th>Confirmed</th>\n",
       "      <th>Deaths</th>\n",
       "      <th>Recovered</th>\n",
       "    </tr>\n",
       "  </thead>\n",
       "  <tbody>\n",
       "    <tr>\n",
       "      <th>31</th>\n",
       "      <td>32</td>\n",
       "      <td>01/22/2020</td>\n",
       "      <td>Washington</td>\n",
       "      <td>US</td>\n",
       "      <td>1/22/2020 17:00</td>\n",
       "      <td>1.0</td>\n",
       "      <td>0.0</td>\n",
       "      <td>0.0</td>\n",
       "    </tr>\n",
       "    <tr>\n",
       "      <th>69</th>\n",
       "      <td>70</td>\n",
       "      <td>01/23/2020</td>\n",
       "      <td>Washington</td>\n",
       "      <td>US</td>\n",
       "      <td>1/23/20 17:00</td>\n",
       "      <td>1.0</td>\n",
       "      <td>0.0</td>\n",
       "      <td>0.0</td>\n",
       "    </tr>\n",
       "    <tr>\n",
       "      <th>117</th>\n",
       "      <td>118</td>\n",
       "      <td>01/24/2020</td>\n",
       "      <td>Washington</td>\n",
       "      <td>US</td>\n",
       "      <td>1/24/20 17:00</td>\n",
       "      <td>1.0</td>\n",
       "      <td>0.0</td>\n",
       "      <td>0.0</td>\n",
       "    </tr>\n",
       "    <tr>\n",
       "      <th>118</th>\n",
       "      <td>119</td>\n",
       "      <td>01/24/2020</td>\n",
       "      <td>Chicago</td>\n",
       "      <td>US</td>\n",
       "      <td>1/24/20 17:00</td>\n",
       "      <td>1.0</td>\n",
       "      <td>0.0</td>\n",
       "      <td>0.0</td>\n",
       "    </tr>\n",
       "    <tr>\n",
       "      <th>158</th>\n",
       "      <td>159</td>\n",
       "      <td>01/25/2020</td>\n",
       "      <td>Washington</td>\n",
       "      <td>US</td>\n",
       "      <td>1/25/20 17:00</td>\n",
       "      <td>1.0</td>\n",
       "      <td>0.0</td>\n",
       "      <td>0.0</td>\n",
       "    </tr>\n",
       "    <tr>\n",
       "      <th>...</th>\n",
       "      <td>...</td>\n",
       "      <td>...</td>\n",
       "      <td>...</td>\n",
       "      <td>...</td>\n",
       "      <td>...</td>\n",
       "      <td>...</td>\n",
       "      <td>...</td>\n",
       "      <td>...</td>\n",
       "    </tr>\n",
       "    <tr>\n",
       "      <th>235983</th>\n",
       "      <td>235984</td>\n",
       "      <td>02/27/2021</td>\n",
       "      <td>Virginia</td>\n",
       "      <td>US</td>\n",
       "      <td>2021-02-28 05:22:20</td>\n",
       "      <td>574314.0</td>\n",
       "      <td>8382.0</td>\n",
       "      <td>0.0</td>\n",
       "    </tr>\n",
       "    <tr>\n",
       "      <th>235993</th>\n",
       "      <td>235994</td>\n",
       "      <td>02/27/2021</td>\n",
       "      <td>Washington</td>\n",
       "      <td>US</td>\n",
       "      <td>2021-02-28 05:22:20</td>\n",
       "      <td>339773.0</td>\n",
       "      <td>4956.0</td>\n",
       "      <td>0.0</td>\n",
       "    </tr>\n",
       "    <tr>\n",
       "      <th>235996</th>\n",
       "      <td>235997</td>\n",
       "      <td>02/27/2021</td>\n",
       "      <td>West Virginia</td>\n",
       "      <td>US</td>\n",
       "      <td>2021-02-28 05:22:20</td>\n",
       "      <td>131580.0</td>\n",
       "      <td>2297.0</td>\n",
       "      <td>0.0</td>\n",
       "    </tr>\n",
       "    <tr>\n",
       "      <th>235998</th>\n",
       "      <td>235999</td>\n",
       "      <td>02/27/2021</td>\n",
       "      <td>Wisconsin</td>\n",
       "      <td>US</td>\n",
       "      <td>2021-02-28 05:22:20</td>\n",
       "      <td>616886.0</td>\n",
       "      <td>7014.0</td>\n",
       "      <td>0.0</td>\n",
       "    </tr>\n",
       "    <tr>\n",
       "      <th>235999</th>\n",
       "      <td>236000</td>\n",
       "      <td>02/27/2021</td>\n",
       "      <td>Wyoming</td>\n",
       "      <td>US</td>\n",
       "      <td>2021-02-28 05:22:20</td>\n",
       "      <td>54350.0</td>\n",
       "      <td>671.0</td>\n",
       "      <td>0.0</td>\n",
       "    </tr>\n",
       "  </tbody>\n",
       "</table>\n",
       "<p>21462 rows × 8 columns</p>\n",
       "</div>"
      ],
      "text/plain": [
       "           SNo ObservationDate Province/State Country/Region  \\\n",
       "31          32      01/22/2020     Washington             US   \n",
       "69          70      01/23/2020     Washington             US   \n",
       "117        118      01/24/2020     Washington             US   \n",
       "118        119      01/24/2020        Chicago             US   \n",
       "158        159      01/25/2020     Washington             US   \n",
       "...        ...             ...            ...            ...   \n",
       "235983  235984      02/27/2021       Virginia             US   \n",
       "235993  235994      02/27/2021     Washington             US   \n",
       "235996  235997      02/27/2021  West Virginia             US   \n",
       "235998  235999      02/27/2021      Wisconsin             US   \n",
       "235999  236000      02/27/2021        Wyoming             US   \n",
       "\n",
       "                Last Update  Confirmed  Deaths  Recovered  \n",
       "31          1/22/2020 17:00        1.0     0.0        0.0  \n",
       "69            1/23/20 17:00        1.0     0.0        0.0  \n",
       "117           1/24/20 17:00        1.0     0.0        0.0  \n",
       "118           1/24/20 17:00        1.0     0.0        0.0  \n",
       "158           1/25/20 17:00        1.0     0.0        0.0  \n",
       "...                     ...        ...     ...        ...  \n",
       "235983  2021-02-28 05:22:20   574314.0  8382.0        0.0  \n",
       "235993  2021-02-28 05:22:20   339773.0  4956.0        0.0  \n",
       "235996  2021-02-28 05:22:20   131580.0  2297.0        0.0  \n",
       "235998  2021-02-28 05:22:20   616886.0  7014.0        0.0  \n",
       "235999  2021-02-28 05:22:20    54350.0   671.0        0.0  \n",
       "\n",
       "[21462 rows x 8 columns]"
      ]
     },
     "metadata": {},
     "output_type": "display_data"
    },
    {
     "name": "stdout",
     "output_type": "stream",
     "text": [
      "SNo                0\n",
      "ObservationDate    0\n",
      "Province/State     0\n",
      "Country/Region     0\n",
      "Last Update        0\n",
      "Confirmed          0\n",
      "Deaths             0\n",
      "Recovered          0\n",
      "dtype: int64\n"
     ]
    }
   ],
   "source": [
    "data = pd.read_csv(\"datasets/Novel Corona Virus 2019 Dataset/covid_19_data.csv\")\n",
    "data=data[data[\"Country/Region\"]==\"US\"]\n",
    "display(data)\n",
    "\n",
    "\n",
    "\n",
    "# printing nan\n",
    "print(data.isna().sum())\n",
    "\n"
   ]
  },
  {
   "cell_type": "markdown",
   "metadata": {},
   "source": [
    "combine the values of all the states for every day"
   ]
  },
  {
   "cell_type": "code",
   "execution_count": 29,
   "metadata": {},
   "outputs": [],
   "source": [
    "from datetime import datetime\n",
    "\n",
    "dates=list(data['ObservationDate'].unique())\n",
    "dates.sort(key=lambda date: datetime.strptime(date, \"%m/%d/%Y\"))\n",
    "\n",
    "cleaned = pd.DataFrame({'ObservationDate':[],'Confirmed':[],'Deaths':[],'Recovered':[]})\n",
    "for d in dates:\n",
    "    temp=data[data[\"ObservationDate\"]==d]\n",
    "    d=datetime.strptime(d, \"%m/%d/%Y\")\n",
    "    d=d.strftime('%Y-%m-%d')\n",
    "    cleaned.loc[len(cleaned.index)] = [d, temp['Confirmed'].sum(),temp['Deaths'].sum(),temp['Recovered'].sum()] \n"
   ]
  },
  {
   "cell_type": "markdown",
   "metadata": {},
   "source": [
    "## Boxplots to detect outliers. "
   ]
  },
  {
   "cell_type": "code",
   "execution_count": 30,
   "metadata": {},
   "outputs": [
    {
     "data": {
      "text/plain": [
       "<Figure size 720x720 with 0 Axes>"
      ]
     },
     "metadata": {},
     "output_type": "display_data"
    },
    {
     "data": {
      "image/png": "[encoded data removed]",
      "text/plain": [
       "<Figure size 432x288 with 1 Axes>"
      ]
     },
     "metadata": {
      "needs_background": "light"
     },
     "output_type": "display_data"
    }
   ],
   "source": [
    "plt.figure(figsize=(10, 10))\n",
    "ax = cleaned[['Confirmed', 'Deaths', 'Recovered']].plot(kind='box', title='boxplot', showmeans=True)\n",
    "plt.show()"
   ]
  },
  {
   "cell_type": "markdown",
   "metadata": {},
   "source": []
  },
  {
   "cell_type": "code",
   "execution_count": 31,
   "metadata": {},
   "outputs": [
    {
     "name": "stdout",
     "output_type": "stream",
     "text": [
      "(403, 4)\n",
      "1119067.5\n",
      "11728658.0\n",
      "(302, 4)\n"
     ]
    }
   ],
   "source": [
    "'''\n",
    "Warning!!!!!!!!!!!!!!!!!!!!!!!!!!!!!!\n",
    "every time you run this block it will remove outliers assumed to be in Q3\n",
    "'''\n",
    "print(cleaned.shape)\n",
    "#find Q1, Q3, and interquartile range for each column\n",
    "Q1 =  cleaned[\"Confirmed\"].quantile(q=.25)\n",
    "Q3 =  cleaned[\"Confirmed\"].quantile(q=.75)\n",
    "IQR = cleaned[\"Confirmed\"].apply(iqr)\n",
    "print(Q1)\n",
    "print(Q3)\n",
    "#only keep rows in dataframe that have values within 1.5*IQR of Q1 and Q3\n",
    "cleaned = cleaned[~((cleaned[\"Confirmed\"] > (Q3+1.5*IQR)))]\n",
    "\n",
    "print(cleaned.shape)\n"
   ]
  },
  {
   "cell_type": "markdown",
   "metadata": {},
   "source": [
    "## Boxplot graph without outliers"
   ]
  },
  {
   "cell_type": "code",
   "execution_count": 32,
   "metadata": {},
   "outputs": [
    {
     "data": {
      "text/plain": [
       "<Figure size 720x720 with 0 Axes>"
      ]
     },
     "metadata": {},
     "output_type": "display_data"
    },
    {
     "data": {
      "image/png": "[encoded data removed]",
      "text/plain": [
       "<Figure size 432x288 with 1 Axes>"
      ]
     },
     "metadata": {
      "needs_background": "light"
     },
     "output_type": "display_data"
    }
   ],
   "source": [
    "plt.figure(figsize=(10, 10))\n",
    "ax = cleaned[['Confirmed', 'Deaths', 'Recovered']].plot(kind='box', title='boxplot', showmeans=True)\n",
    "plt.show()"
   ]
  },
  {
   "cell_type": "code",
   "execution_count": 33,
   "metadata": {},
   "outputs": [],
   "source": [
    "import os\n",
    "if not os.path.exists('cleaned/Novel Corona Virus 2019 Dataset'):\n",
    "    os.makedirs('cleaned/Novel Corona Virus 2019 Dataset')\n",
    "f=open(f'cleaned/Novel Corona Virus 2019 Dataset/covid_19_data.csv', \"w\")\n",
    "cleaned.to_csv(path_or_buf=f,index=False,line_terminator='\\n')\n",
    "f.close()"
   ]
  },
  {
   "cell_type": "markdown",
   "metadata": {},
   "source": [
    "## group by month (discretize data)"
   ]
  },
  {
   "cell_type": "code",
   "execution_count": 34,
   "metadata": {},
   "outputs": [],
   "source": [
    "cleaned['ObservationDate'] = pd.to_datetime(cleaned.ObservationDate)\n",
    "\n",
    "groupedByMonth=cleaned.groupby(pd.Grouper(key='ObservationDate', freq='1M')).sum().reset_index()\n",
    "\n"
   ]
  },
  {
   "cell_type": "code",
   "execution_count": 35,
   "metadata": {},
   "outputs": [],
   "source": [
    "import os\n",
    "if not os.path.exists('cleaned/Novel Corona Virus 2019 Dataset'):\n",
    "    os.makedirs('cleaned/Novel Corona Virus 2019 Dataset')\n",
    "f=open(f'cleaned/Novel Corona Virus 2019 Dataset/covid_19_data_grouped_by_month.csv', \"w\")\n",
    "groupedByMonth.to_csv(path_or_buf=f,index=False,line_terminator='\\n')\n",
    "f.close()"
   ]
  },
  {
   "cell_type": "markdown",
   "metadata": {},
   "source": [
    "## normalize"
   ]
  },
  {
   "cell_type": "code",
   "execution_count": 36,
   "metadata": {},
   "outputs": [
    {
     "name": "stdout",
     "output_type": "stream",
     "text": [
      "0      1.206438e-08\n",
      "1      1.206438e-08\n",
      "2      2.412876e-08\n",
      "3      2.412876e-08\n",
      "4      6.032191e-08\n",
      "           ...     \n",
      "297    1.326864e-01\n",
      "298    1.343287e-01\n",
      "299    1.362891e-01\n",
      "300    1.382607e-01\n",
      "301    1.403460e-01\n",
      "Name: Confirmed, Length: 302, dtype: float64\n",
      "0      0.000000\n",
      "1      0.000000\n",
      "2      0.000000\n",
      "3      0.000000\n",
      "4      0.000000\n",
      "         ...   \n",
      "297    0.101808\n",
      "298    0.102124\n",
      "299    0.102471\n",
      "300    0.103181\n",
      "301    0.103979\n",
      "Name: Deaths, Length: 302, dtype: float64\n",
      "0      0.000000\n",
      "1      0.000000\n",
      "2      0.000000\n",
      "3      0.000000\n",
      "4      0.000000\n",
      "         ...   \n",
      "297    0.134397\n",
      "298    0.135254\n",
      "299    0.137519\n",
      "300    0.139101\n",
      "301    0.140952\n",
      "Name: Recovered, Length: 302, dtype: float64\n"
     ]
    }
   ],
   "source": [
    "cleaned[\"Confirmed\"] = (preprocessing.normalize([cleaned[\"Confirmed\"]]))[0]\n",
    "print(cleaned[\"Confirmed\"])\n",
    "cleaned[\"Deaths\"] = preprocessing.normalize([cleaned[\"Deaths\"]])[0]\n",
    "print(cleaned[\"Deaths\"])\n",
    "cleaned[\"Recovered\"] = preprocessing.normalize([cleaned[\"Recovered\"]])[0]\n",
    "print(cleaned[\"Recovered\"])"
   ]
  },
  {
   "cell_type": "code",
   "execution_count": 37,
   "metadata": {},
   "outputs": [],
   "source": [
    "import os\n",
    "if not os.path.exists('cleaned/Novel Corona Virus 2019 Dataset'):\n",
    "    os.makedirs('cleaned/Novel Corona Virus 2019 Dataset')\n",
    "f=open(f'cleaned/Novel Corona Virus 2019 Dataset/covid_19_data_normalized.csv', \"w\")\n",
    "cleaned.to_csv(path_or_buf=f,index=False,line_terminator='\\n')\n",
    "f.close()"
   ]
  },
  {
   "cell_type": "markdown",
   "metadata": {},
   "source": [
    "# Countries population by year 2020\n"
   ]
  },
  {
   "cell_type": "code",
   "execution_count": 38,
   "metadata": {},
   "outputs": [
    {
     "data": {
      "text/html": [
       "<div>\n",
       "<style scoped>\n",
       "    .dataframe tbody tr th:only-of-type {\n",
       "        vertical-align: middle;\n",
       "    }\n",
       "\n",
       "    .dataframe tbody tr th {\n",
       "        vertical-align: top;\n",
       "    }\n",
       "\n",
       "    .dataframe thead th {\n",
       "        text-align: right;\n",
       "    }\n",
       "</style>\n",
       "<table border=\"1\" class=\"dataframe\">\n",
       "  <thead>\n",
       "    <tr style=\"text-align: right;\">\n",
       "      <th></th>\n",
       "      <th>Country (or dependency)</th>\n",
       "      <th>Population (2020)</th>\n",
       "      <th>Density (P/Km²)</th>\n",
       "      <th>Med. Age</th>\n",
       "    </tr>\n",
       "  </thead>\n",
       "  <tbody>\n",
       "    <tr>\n",
       "      <th>2</th>\n",
       "      <td>United States</td>\n",
       "      <td>330610570</td>\n",
       "      <td>36</td>\n",
       "      <td>38</td>\n",
       "    </tr>\n",
       "  </tbody>\n",
       "</table>\n",
       "</div>"
      ],
      "text/plain": [
       "  Country (or dependency)  Population (2020)  Density (P/Km²) Med. Age\n",
       "2           United States          330610570               36       38"
      ]
     },
     "execution_count": 38,
     "metadata": {},
     "output_type": "execute_result"
    }
   ],
   "source": [
    "data = pd.read_csv(\"datasets/Countries population by year 2020/population_by_country_2020.csv\")\n",
    "data=data[data[\"Country (or dependency)\"]==\"United States\"]\n",
    "data=data[[\"Country (or dependency)\",\"Population (2020)\",\"Density (P/Km²)\",\"Med. Age\"]]\n",
    "data.head()\n"
   ]
  },
  {
   "cell_type": "code",
   "execution_count": 39,
   "metadata": {},
   "outputs": [],
   "source": [
    "import os\n",
    "if not os.path.exists('cleaned/Countries population by year 2020'):\n",
    "    os.makedirs('cleaned/Countries population by year 2020')\n",
    "f=open(f'cleaned/Countries population by year 2020/population_by_country_2020.csv', \"w\")\n",
    "data.to_csv(path_or_buf=f,index=False,line_terminator='\\n')\n",
    "f.close()"
   ]
  },
  {
   "cell_type": "code",
   "execution_count": null,
   "metadata": {},
   "outputs": [],
   "source": []
  },
  {
   "cell_type": "code",
   "execution_count": null,
   "metadata": {},
   "outputs": [],
   "source": []
  },
  {
   "cell_type": "code",
   "execution_count": null,
   "metadata": {},
   "outputs": [],
   "source": []
  }
 ],
 "metadata": {
  "kernelspec": {
   "display_name": "Python 3",
   "language": "python",
   "name": "python3"
  },
  "language_info": {
   "codemirror_mode": {
    "name": "ipython",
    "version": 3
   },
   "file_extension": ".py",
   "mimetype": "text/x-python",
   "name": "python",
   "nbconvert_exporter": "python",
   "pygments_lexer": "ipython3",
   "version": "3.8.8"
  },
  "metadata": {
   "interpreter": {
    "hash": "d30bd45baaca76a18077a05d095ddff69f9ab9e75f27a8807a430bb99450efea"
   }
  }
 },
 "nbformat": 4,
 "nbformat_minor": 2
}
